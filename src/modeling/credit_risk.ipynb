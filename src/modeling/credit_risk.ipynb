{
 "cells": [
  {
   "cell_type": "code",
   "execution_count": 1,
   "id": "58680d08",
   "metadata": {
    "executionInfo": {
     "elapsed": 3847,
     "status": "ok",
     "timestamp": 1736501612154,
     "user": {
      "displayName": "Moustapha Fall",
      "userId": "14093087170737290593"
     },
     "user_tz": 0
    },
    "id": "58680d08"
   },
   "outputs": [],
   "source": [
    "import pandas as pd\n",
    "import numpy as np\n",
    "import seaborn as sns\n",
    "import matplotlib.pyplot as plt\n",
    "from sklearn.impute import SimpleImputer\n",
    "from sklearn.model_selection import train_test_split"
   ]
  },
  {
   "cell_type": "markdown",
   "id": "714c5a0f",
   "metadata": {
    "id": "714c5a0f"
   },
   "source": [
    "# <span style= \"font-family: Papyrus; font_size: 1em; font-style: underline; \"> 🔻Step 1 | Chargement du jeu de données</span>"
   ]
  },
  {
   "cell_type": "code",
   "execution_count": 33,
   "id": "bf6b958b",
   "metadata": {
    "colab": {
     "base_uri": "https://localhost:8080/",
     "height": 0
    },
    "executionInfo": {
     "elapsed": 1333,
     "status": "ok",
     "timestamp": 1736501613476,
     "user": {
      "displayName": "Moustapha Fall",
      "userId": "14093087170737290593"
     },
     "user_tz": 0
    },
    "id": "bf6b958b",
    "outputId": "48af692a-18d3-467b-cd5a-f3d03afa217f"
   },
   "outputs": [
    {
     "data": {
      "text/html": [
       "<div>\n",
       "<style scoped>\n",
       "    .dataframe tbody tr th:only-of-type {\n",
       "        vertical-align: middle;\n",
       "    }\n",
       "\n",
       "    .dataframe tbody tr th {\n",
       "        vertical-align: top;\n",
       "    }\n",
       "\n",
       "    .dataframe thead th {\n",
       "        text-align: right;\n",
       "    }\n",
       "</style>\n",
       "<table border=\"1\" class=\"dataframe\">\n",
       "  <thead>\n",
       "    <tr style=\"text-align: right;\">\n",
       "      <th></th>\n",
       "      <th>Unnamed: 0</th>\n",
       "      <th>Age</th>\n",
       "      <th>Sex</th>\n",
       "      <th>Job</th>\n",
       "      <th>Housing</th>\n",
       "      <th>Saving accounts</th>\n",
       "      <th>Checking account</th>\n",
       "      <th>Credit amount</th>\n",
       "      <th>Duration</th>\n",
       "      <th>Purpose</th>\n",
       "      <th>Risk</th>\n",
       "    </tr>\n",
       "  </thead>\n",
       "  <tbody>\n",
       "    <tr>\n",
       "      <th>0</th>\n",
       "      <td>0</td>\n",
       "      <td>67</td>\n",
       "      <td>male</td>\n",
       "      <td>2</td>\n",
       "      <td>own</td>\n",
       "      <td>NaN</td>\n",
       "      <td>little</td>\n",
       "      <td>1169</td>\n",
       "      <td>6</td>\n",
       "      <td>radio/TV</td>\n",
       "      <td>good</td>\n",
       "    </tr>\n",
       "    <tr>\n",
       "      <th>1</th>\n",
       "      <td>1</td>\n",
       "      <td>22</td>\n",
       "      <td>female</td>\n",
       "      <td>2</td>\n",
       "      <td>own</td>\n",
       "      <td>little</td>\n",
       "      <td>moderate</td>\n",
       "      <td>5951</td>\n",
       "      <td>48</td>\n",
       "      <td>radio/TV</td>\n",
       "      <td>bad</td>\n",
       "    </tr>\n",
       "    <tr>\n",
       "      <th>2</th>\n",
       "      <td>2</td>\n",
       "      <td>49</td>\n",
       "      <td>male</td>\n",
       "      <td>1</td>\n",
       "      <td>own</td>\n",
       "      <td>little</td>\n",
       "      <td>NaN</td>\n",
       "      <td>2096</td>\n",
       "      <td>12</td>\n",
       "      <td>education</td>\n",
       "      <td>good</td>\n",
       "    </tr>\n",
       "    <tr>\n",
       "      <th>3</th>\n",
       "      <td>3</td>\n",
       "      <td>45</td>\n",
       "      <td>male</td>\n",
       "      <td>2</td>\n",
       "      <td>free</td>\n",
       "      <td>little</td>\n",
       "      <td>little</td>\n",
       "      <td>7882</td>\n",
       "      <td>42</td>\n",
       "      <td>furniture/equipment</td>\n",
       "      <td>good</td>\n",
       "    </tr>\n",
       "    <tr>\n",
       "      <th>4</th>\n",
       "      <td>4</td>\n",
       "      <td>53</td>\n",
       "      <td>male</td>\n",
       "      <td>2</td>\n",
       "      <td>free</td>\n",
       "      <td>little</td>\n",
       "      <td>little</td>\n",
       "      <td>4870</td>\n",
       "      <td>24</td>\n",
       "      <td>car</td>\n",
       "      <td>bad</td>\n",
       "    </tr>\n",
       "    <tr>\n",
       "      <th>...</th>\n",
       "      <td>...</td>\n",
       "      <td>...</td>\n",
       "      <td>...</td>\n",
       "      <td>...</td>\n",
       "      <td>...</td>\n",
       "      <td>...</td>\n",
       "      <td>...</td>\n",
       "      <td>...</td>\n",
       "      <td>...</td>\n",
       "      <td>...</td>\n",
       "      <td>...</td>\n",
       "    </tr>\n",
       "    <tr>\n",
       "      <th>995</th>\n",
       "      <td>995</td>\n",
       "      <td>31</td>\n",
       "      <td>female</td>\n",
       "      <td>1</td>\n",
       "      <td>own</td>\n",
       "      <td>little</td>\n",
       "      <td>NaN</td>\n",
       "      <td>1736</td>\n",
       "      <td>12</td>\n",
       "      <td>furniture/equipment</td>\n",
       "      <td>good</td>\n",
       "    </tr>\n",
       "    <tr>\n",
       "      <th>996</th>\n",
       "      <td>996</td>\n",
       "      <td>40</td>\n",
       "      <td>male</td>\n",
       "      <td>3</td>\n",
       "      <td>own</td>\n",
       "      <td>little</td>\n",
       "      <td>little</td>\n",
       "      <td>3857</td>\n",
       "      <td>30</td>\n",
       "      <td>car</td>\n",
       "      <td>good</td>\n",
       "    </tr>\n",
       "    <tr>\n",
       "      <th>997</th>\n",
       "      <td>997</td>\n",
       "      <td>38</td>\n",
       "      <td>male</td>\n",
       "      <td>2</td>\n",
       "      <td>own</td>\n",
       "      <td>little</td>\n",
       "      <td>NaN</td>\n",
       "      <td>804</td>\n",
       "      <td>12</td>\n",
       "      <td>radio/TV</td>\n",
       "      <td>good</td>\n",
       "    </tr>\n",
       "    <tr>\n",
       "      <th>998</th>\n",
       "      <td>998</td>\n",
       "      <td>23</td>\n",
       "      <td>male</td>\n",
       "      <td>2</td>\n",
       "      <td>free</td>\n",
       "      <td>little</td>\n",
       "      <td>little</td>\n",
       "      <td>1845</td>\n",
       "      <td>45</td>\n",
       "      <td>radio/TV</td>\n",
       "      <td>bad</td>\n",
       "    </tr>\n",
       "    <tr>\n",
       "      <th>999</th>\n",
       "      <td>999</td>\n",
       "      <td>27</td>\n",
       "      <td>male</td>\n",
       "      <td>2</td>\n",
       "      <td>own</td>\n",
       "      <td>moderate</td>\n",
       "      <td>moderate</td>\n",
       "      <td>4576</td>\n",
       "      <td>45</td>\n",
       "      <td>car</td>\n",
       "      <td>good</td>\n",
       "    </tr>\n",
       "  </tbody>\n",
       "</table>\n",
       "<p>1000 rows × 11 columns</p>\n",
       "</div>"
      ],
      "text/plain": [
       "     Unnamed: 0  Age     Sex  Job Housing Saving accounts Checking account  \\\n",
       "0             0   67    male    2     own             NaN           little   \n",
       "1             1   22  female    2     own          little         moderate   \n",
       "2             2   49    male    1     own          little              NaN   \n",
       "3             3   45    male    2    free          little           little   \n",
       "4             4   53    male    2    free          little           little   \n",
       "..          ...  ...     ...  ...     ...             ...              ...   \n",
       "995         995   31  female    1     own          little              NaN   \n",
       "996         996   40    male    3     own          little           little   \n",
       "997         997   38    male    2     own          little              NaN   \n",
       "998         998   23    male    2    free          little           little   \n",
       "999         999   27    male    2     own        moderate         moderate   \n",
       "\n",
       "     Credit amount  Duration              Purpose  Risk  \n",
       "0             1169         6             radio/TV  good  \n",
       "1             5951        48             radio/TV   bad  \n",
       "2             2096        12            education  good  \n",
       "3             7882        42  furniture/equipment  good  \n",
       "4             4870        24                  car   bad  \n",
       "..             ...       ...                  ...   ...  \n",
       "995           1736        12  furniture/equipment  good  \n",
       "996           3857        30                  car  good  \n",
       "997            804        12             radio/TV  good  \n",
       "998           1845        45             radio/TV   bad  \n",
       "999           4576        45                  car  good  \n",
       "\n",
       "[1000 rows x 11 columns]"
      ]
     },
     "execution_count": 33,
     "metadata": {},
     "output_type": "execute_result"
    }
   ],
   "source": [
    "data=pd.read_csv(\"../../data/raw/german_credit_data.xls\")\n",
    "data"
   ]
  },
  {
   "cell_type": "code",
   "execution_count": 40,
   "id": "c8ce1243",
   "metadata": {},
   "outputs": [
    {
     "data": {
      "text/plain": [
       "Checking account\n",
       "little      274\n",
       "moderate    269\n",
       "rich         63\n",
       "Name: count, dtype: int64"
      ]
     },
     "execution_count": 40,
     "metadata": {},
     "output_type": "execute_result"
    }
   ],
   "source": [
    "data['Checking account'].value_counts()"
   ]
  },
  {
   "cell_type": "code",
   "execution_count": 3,
   "id": "Zhdjp2Sb0tKZ",
   "metadata": {
    "colab": {
     "base_uri": "https://localhost:8080/",
     "height": 0
    },
    "executionInfo": {
     "elapsed": 50,
     "status": "ok",
     "timestamp": 1736501613476,
     "user": {
      "displayName": "Moustapha Fall",
      "userId": "14093087170737290593"
     },
     "user_tz": 0
    },
    "id": "Zhdjp2Sb0tKZ",
    "outputId": "29edfb92-d4de-4eb1-da8a-84046fc6dcb0"
   },
   "outputs": [
    {
     "data": {
      "text/html": [
       "<div>\n",
       "<style scoped>\n",
       "    .dataframe tbody tr th:only-of-type {\n",
       "        vertical-align: middle;\n",
       "    }\n",
       "\n",
       "    .dataframe tbody tr th {\n",
       "        vertical-align: top;\n",
       "    }\n",
       "\n",
       "    .dataframe thead th {\n",
       "        text-align: right;\n",
       "    }\n",
       "</style>\n",
       "<table border=\"1\" class=\"dataframe\">\n",
       "  <thead>\n",
       "    <tr style=\"text-align: right;\">\n",
       "      <th></th>\n",
       "      <th>Age</th>\n",
       "      <th>Sex</th>\n",
       "      <th>Job</th>\n",
       "      <th>Housing</th>\n",
       "      <th>Saving accounts</th>\n",
       "      <th>Checking account</th>\n",
       "      <th>Credit amount</th>\n",
       "      <th>Duration</th>\n",
       "      <th>Purpose</th>\n",
       "      <th>Risk</th>\n",
       "    </tr>\n",
       "  </thead>\n",
       "  <tbody>\n",
       "    <tr>\n",
       "      <th>0</th>\n",
       "      <td>67</td>\n",
       "      <td>male</td>\n",
       "      <td>2</td>\n",
       "      <td>own</td>\n",
       "      <td>NaN</td>\n",
       "      <td>little</td>\n",
       "      <td>1169</td>\n",
       "      <td>6</td>\n",
       "      <td>radio/TV</td>\n",
       "      <td>good</td>\n",
       "    </tr>\n",
       "    <tr>\n",
       "      <th>1</th>\n",
       "      <td>22</td>\n",
       "      <td>female</td>\n",
       "      <td>2</td>\n",
       "      <td>own</td>\n",
       "      <td>little</td>\n",
       "      <td>moderate</td>\n",
       "      <td>5951</td>\n",
       "      <td>48</td>\n",
       "      <td>radio/TV</td>\n",
       "      <td>bad</td>\n",
       "    </tr>\n",
       "    <tr>\n",
       "      <th>2</th>\n",
       "      <td>49</td>\n",
       "      <td>male</td>\n",
       "      <td>1</td>\n",
       "      <td>own</td>\n",
       "      <td>little</td>\n",
       "      <td>NaN</td>\n",
       "      <td>2096</td>\n",
       "      <td>12</td>\n",
       "      <td>education</td>\n",
       "      <td>good</td>\n",
       "    </tr>\n",
       "    <tr>\n",
       "      <th>3</th>\n",
       "      <td>45</td>\n",
       "      <td>male</td>\n",
       "      <td>2</td>\n",
       "      <td>free</td>\n",
       "      <td>little</td>\n",
       "      <td>little</td>\n",
       "      <td>7882</td>\n",
       "      <td>42</td>\n",
       "      <td>furniture/equipment</td>\n",
       "      <td>good</td>\n",
       "    </tr>\n",
       "    <tr>\n",
       "      <th>4</th>\n",
       "      <td>53</td>\n",
       "      <td>male</td>\n",
       "      <td>2</td>\n",
       "      <td>free</td>\n",
       "      <td>little</td>\n",
       "      <td>little</td>\n",
       "      <td>4870</td>\n",
       "      <td>24</td>\n",
       "      <td>car</td>\n",
       "      <td>bad</td>\n",
       "    </tr>\n",
       "  </tbody>\n",
       "</table>\n",
       "</div>"
      ],
      "text/plain": [
       "   Age     Sex  Job Housing Saving accounts Checking account  Credit amount  \\\n",
       "0   67    male    2     own             NaN           little           1169   \n",
       "1   22  female    2     own          little         moderate           5951   \n",
       "2   49    male    1     own          little              NaN           2096   \n",
       "3   45    male    2    free          little           little           7882   \n",
       "4   53    male    2    free          little           little           4870   \n",
       "\n",
       "   Duration              Purpose  Risk  \n",
       "0         6             radio/TV  good  \n",
       "1        48             radio/TV   bad  \n",
       "2        12            education  good  \n",
       "3        42  furniture/equipment  good  \n",
       "4        24                  car   bad  "
      ]
     },
     "execution_count": 3,
     "metadata": {},
     "output_type": "execute_result"
    }
   ],
   "source": [
    "data.drop(\"Unnamed: 0\",axis=1,inplace=True)\n",
    "data.head()"
   ]
  },
  {
   "cell_type": "code",
   "execution_count": 4,
   "id": "XQKjePeY3yCn",
   "metadata": {
    "colab": {
     "base_uri": "https://localhost:8080/"
    },
    "executionInfo": {
     "elapsed": 47,
     "status": "ok",
     "timestamp": 1736501613477,
     "user": {
      "displayName": "Moustapha Fall",
      "userId": "14093087170737290593"
     },
     "user_tz": 0
    },
    "id": "XQKjePeY3yCn",
    "outputId": "7e1ebf74-3a38-4d43-c10e-5f1c937a092b"
   },
   "outputs": [
    {
     "name": "stdout",
     "output_type": "stream",
     "text": [
      "<class 'pandas.core.frame.DataFrame'>\n",
      "RangeIndex: 1000 entries, 0 to 999\n",
      "Data columns (total 10 columns):\n",
      " #   Column            Non-Null Count  Dtype \n",
      "---  ------            --------------  ----- \n",
      " 0   Age               1000 non-null   int64 \n",
      " 1   Sex               1000 non-null   object\n",
      " 2   Job               1000 non-null   int64 \n",
      " 3   Housing           1000 non-null   object\n",
      " 4   Saving accounts   817 non-null    object\n",
      " 5   Checking account  606 non-null    object\n",
      " 6   Credit amount     1000 non-null   int64 \n",
      " 7   Duration          1000 non-null   int64 \n",
      " 8   Purpose           1000 non-null   object\n",
      " 9   Risk              1000 non-null   object\n",
      "dtypes: int64(4), object(6)\n",
      "memory usage: 78.3+ KB\n"
     ]
    }
   ],
   "source": [
    "data.info()"
   ]
  },
  {
   "cell_type": "code",
   "execution_count": 41,
   "id": "CrporN2M0tEF",
   "metadata": {
    "colab": {
     "base_uri": "https://localhost:8080/"
    },
    "executionInfo": {
     "elapsed": 30,
     "status": "ok",
     "timestamp": 1736501613477,
     "user": {
      "displayName": "Moustapha Fall",
      "userId": "14093087170737290593"
     },
     "user_tz": 0
    },
    "id": "CrporN2M0tEF",
    "outputId": "53b52e89-66d7-48f7-a029-5a1f016cdd97"
   },
   "outputs": [
    {
     "name": "stdout",
     "output_type": "stream",
     "text": [
      "Sex\n",
      "male      690\n",
      "female    310\n",
      "Name: count, dtype: int64 \n",
      "------------------------\n",
      "\n",
      "Housing\n",
      "own     713\n",
      "rent    179\n",
      "free    108\n",
      "Name: count, dtype: int64 \n",
      "------------------------\n",
      "\n",
      "Saving accounts\n",
      "little        603\n",
      "moderate      103\n",
      "quite rich     63\n",
      "rich           48\n",
      "Name: count, dtype: int64 \n",
      "------------------------\n",
      "\n",
      "Checking account\n",
      "little      274\n",
      "moderate    269\n",
      "rich         63\n",
      "Name: count, dtype: int64 \n",
      "------------------------\n",
      "\n",
      "Purpose\n",
      "car                    337\n",
      "radio/TV               280\n",
      "furniture/equipment    181\n",
      "business                97\n",
      "education               59\n",
      "repairs                 22\n",
      "domestic appliances     12\n",
      "vacation/others         12\n",
      "Name: count, dtype: int64 \n",
      "------------------------\n",
      "\n",
      "Risk\n",
      "good    700\n",
      "bad     300\n",
      "Name: count, dtype: int64 \n",
      "------------------------\n",
      "\n"
     ]
    }
   ],
   "source": [
    "cat_cols = [col for col in data.columns if data[col].dtypes == 'O']\n",
    "\n",
    "for col in cat_cols:\n",
    "    print(data[col].value_counts(), \"\\n------------------------\\n\")\n"
   ]
  },
  {
   "cell_type": "code",
   "execution_count": 6,
   "id": "yCfFD0qL0tAT",
   "metadata": {
    "colab": {
     "base_uri": "https://localhost:8080/",
     "height": 0
    },
    "executionInfo": {
     "elapsed": 588,
     "status": "ok",
     "timestamp": 1736501614047,
     "user": {
      "displayName": "Moustapha Fall",
      "userId": "14093087170737290593"
     },
     "user_tz": 0
    },
    "id": "yCfFD0qL0tAT",
    "outputId": "377001f3-9906-4b69-b180-96549452256d"
   },
   "outputs": [
    {
     "data": {
      "image/png": "[encoded data removed]",
      "text/plain": [
       "<Figure size 1000x600 with 2 Axes>"
      ]
     },
     "metadata": {},
     "output_type": "display_data"
    }
   ],
   "source": [
    "num_cols = [col for col in data.columns if data[col].dtype in ['int64'] and col not in ['Unnamed: 0']]\n",
    "plt.figure(figsize=(10,6))\n",
    "sns.heatmap(data[num_cols].corr(), annot=True)\n",
    "plt.show()"
   ]
  },
  {
   "cell_type": "markdown",
   "id": "e6Xiks7Q814H",
   "metadata": {
    "id": "e6Xiks7Q814H"
   },
   "source": [
    "Correlation entre Duration et Credit amount"
   ]
  },
  {
   "cell_type": "markdown",
   "id": "903d3d6d",
   "metadata": {
    "id": "903d3d6d"
   },
   "source": [
    "# <span style= \"font-family: Papyrus; font_size: 1em; font-style: underline; \"> 🔻Step 2 |Preparations des données </span>"
   ]
  },
  {
   "cell_type": "markdown",
   "id": "ba7bbbf4",
   "metadata": {
    "id": "ba7bbbf4"
   },
   "source": [
    "## <span style= \"font-family: Papyrus; font_size: 1em; font-style: underline; \"> 🔻Step 2.1 Détection et gestion des valeurs manquantes</span>"
   ]
  },
  {
   "cell_type": "markdown",
   "id": "6b76b542",
   "metadata": {
    "id": "6b76b542"
   },
   "source": [
    "###  <span style= \"font-family: Papyrus; font_size: 1em; font-style: underline; \"> a.Détection des valeurs manquantes</span>"
   ]
  },
  {
   "cell_type": "code",
   "execution_count": 42,
   "id": "138e49ef",
   "metadata": {
    "colab": {
     "base_uri": "https://localhost:8080/",
     "height": 0
    },
    "executionInfo": {
     "elapsed": 105,
     "status": "ok",
     "timestamp": 1736501614048,
     "user": {
      "displayName": "Moustapha Fall",
      "userId": "14093087170737290593"
     },
     "user_tz": 0
    },
    "id": "138e49ef",
    "outputId": "81d1ca0a-04f7-49b7-873f-7a3da4ae3f0b"
   },
   "outputs": [
    {
     "data": {
      "text/plain": [
       "Unnamed: 0            0\n",
       "Age                   0\n",
       "Sex                   0\n",
       "Job                   0\n",
       "Housing               0\n",
       "Saving accounts     183\n",
       "Checking account    394\n",
       "Credit amount         0\n",
       "Duration              0\n",
       "Purpose               0\n",
       "Risk                  0\n",
       "dtype: int64"
      ]
     },
     "execution_count": 42,
     "metadata": {},
     "output_type": "execute_result"
    }
   ],
   "source": [
    "data.isna().sum()"
   ]
  },
  {
   "cell_type": "markdown",
   "id": "f1a1e76b",
   "metadata": {
    "id": "f1a1e76b"
   },
   "source": [
    "###  <span style= \"font-family: Papyrus; font_size: 1em; font-style: underline; \"> b.Gestion des valeurs manquantes</span>"
   ]
  },
  {
   "cell_type": "code",
   "execution_count": 43,
   "id": "a4cd87eb",
   "metadata": {
    "colab": {
     "base_uri": "https://localhost:8080/"
    },
    "executionInfo": {
     "elapsed": 103,
     "status": "ok",
     "timestamp": 1736501614049,
     "user": {
      "displayName": "Moustapha Fall",
      "userId": "14093087170737290593"
     },
     "user_tz": 0
    },
    "id": "a4cd87eb",
    "outputId": "b5848a23-5096-4291-d7ea-8c7b95a542ac"
   },
   "outputs": [
    {
     "data": {
      "text/plain": [
       "(np.float64(18.3), np.float64(39.4))"
      ]
     },
     "execution_count": 43,
     "metadata": {},
     "output_type": "execute_result"
    }
   ],
   "source": [
    "#evaluation du pourcentage de valeur manquantes pour saving accounts et credit account\n",
    "\n",
    "n1=(data[\"Saving accounts\"].isna().sum()/1000)*100\n",
    "n2=(data[\"Checking account\"].isna().sum()/1000)*100\n",
    "\n",
    "n1,n2"
   ]
  },
  {
   "cell_type": "markdown",
   "id": "219fd925",
   "metadata": {
    "id": "219fd925"
   },
   "source": [
    "n1 et n2 etant supperieur a 5% alors on ne peut pas supprimer les donnees"
   ]
  },
  {
   "cell_type": "code",
   "execution_count": 44,
   "id": "7tzCh3rH_rJI",
   "metadata": {
    "colab": {
     "base_uri": "https://localhost:8080/",
     "height": 0
    },
    "executionInfo": {
     "elapsed": 93,
     "status": "ok",
     "timestamp": 1736501614049,
     "user": {
      "displayName": "Moustapha Fall",
      "userId": "14093087170737290593"
     },
     "user_tz": 0
    },
    "id": "7tzCh3rH_rJI",
    "outputId": "52385135-0148-4ee7-d730-38be4cde65bd"
   },
   "outputs": [
    {
     "data": {
      "text/html": [
       "<div>\n",
       "<style scoped>\n",
       "    .dataframe tbody tr th:only-of-type {\n",
       "        vertical-align: middle;\n",
       "    }\n",
       "\n",
       "    .dataframe tbody tr th {\n",
       "        vertical-align: top;\n",
       "    }\n",
       "\n",
       "    .dataframe thead th {\n",
       "        text-align: right;\n",
       "    }\n",
       "</style>\n",
       "<table border=\"1\" class=\"dataframe\">\n",
       "  <thead>\n",
       "    <tr style=\"text-align: right;\">\n",
       "      <th></th>\n",
       "      <th>Unnamed: 0</th>\n",
       "      <th>Age</th>\n",
       "      <th>Sex</th>\n",
       "      <th>Job</th>\n",
       "      <th>Housing</th>\n",
       "      <th>Saving accounts</th>\n",
       "      <th>Checking account</th>\n",
       "      <th>Credit amount</th>\n",
       "      <th>Duration</th>\n",
       "      <th>Purpose</th>\n",
       "      <th>Risk</th>\n",
       "    </tr>\n",
       "  </thead>\n",
       "  <tbody>\n",
       "    <tr>\n",
       "      <th>0</th>\n",
       "      <td>0</td>\n",
       "      <td>67</td>\n",
       "      <td>male</td>\n",
       "      <td>2</td>\n",
       "      <td>own</td>\n",
       "      <td>NaN</td>\n",
       "      <td>little</td>\n",
       "      <td>1169</td>\n",
       "      <td>6</td>\n",
       "      <td>radio/TV</td>\n",
       "      <td>good</td>\n",
       "    </tr>\n",
       "    <tr>\n",
       "      <th>5</th>\n",
       "      <td>5</td>\n",
       "      <td>35</td>\n",
       "      <td>male</td>\n",
       "      <td>1</td>\n",
       "      <td>free</td>\n",
       "      <td>NaN</td>\n",
       "      <td>NaN</td>\n",
       "      <td>9055</td>\n",
       "      <td>36</td>\n",
       "      <td>education</td>\n",
       "      <td>good</td>\n",
       "    </tr>\n",
       "    <tr>\n",
       "      <th>16</th>\n",
       "      <td>16</td>\n",
       "      <td>53</td>\n",
       "      <td>male</td>\n",
       "      <td>2</td>\n",
       "      <td>own</td>\n",
       "      <td>NaN</td>\n",
       "      <td>NaN</td>\n",
       "      <td>2424</td>\n",
       "      <td>24</td>\n",
       "      <td>radio/TV</td>\n",
       "      <td>good</td>\n",
       "    </tr>\n",
       "    <tr>\n",
       "      <th>17</th>\n",
       "      <td>17</td>\n",
       "      <td>25</td>\n",
       "      <td>male</td>\n",
       "      <td>2</td>\n",
       "      <td>own</td>\n",
       "      <td>NaN</td>\n",
       "      <td>little</td>\n",
       "      <td>8072</td>\n",
       "      <td>30</td>\n",
       "      <td>business</td>\n",
       "      <td>good</td>\n",
       "    </tr>\n",
       "    <tr>\n",
       "      <th>24</th>\n",
       "      <td>24</td>\n",
       "      <td>26</td>\n",
       "      <td>male</td>\n",
       "      <td>2</td>\n",
       "      <td>own</td>\n",
       "      <td>NaN</td>\n",
       "      <td>NaN</td>\n",
       "      <td>2069</td>\n",
       "      <td>10</td>\n",
       "      <td>furniture/equipment</td>\n",
       "      <td>good</td>\n",
       "    </tr>\n",
       "    <tr>\n",
       "      <th>...</th>\n",
       "      <td>...</td>\n",
       "      <td>...</td>\n",
       "      <td>...</td>\n",
       "      <td>...</td>\n",
       "      <td>...</td>\n",
       "      <td>...</td>\n",
       "      <td>...</td>\n",
       "      <td>...</td>\n",
       "      <td>...</td>\n",
       "      <td>...</td>\n",
       "      <td>...</td>\n",
       "    </tr>\n",
       "    <tr>\n",
       "      <th>968</th>\n",
       "      <td>968</td>\n",
       "      <td>29</td>\n",
       "      <td>male</td>\n",
       "      <td>2</td>\n",
       "      <td>rent</td>\n",
       "      <td>NaN</td>\n",
       "      <td>NaN</td>\n",
       "      <td>7166</td>\n",
       "      <td>42</td>\n",
       "      <td>radio/TV</td>\n",
       "      <td>good</td>\n",
       "    </tr>\n",
       "    <tr>\n",
       "      <th>977</th>\n",
       "      <td>977</td>\n",
       "      <td>42</td>\n",
       "      <td>male</td>\n",
       "      <td>2</td>\n",
       "      <td>own</td>\n",
       "      <td>NaN</td>\n",
       "      <td>moderate</td>\n",
       "      <td>2427</td>\n",
       "      <td>18</td>\n",
       "      <td>business</td>\n",
       "      <td>good</td>\n",
       "    </tr>\n",
       "    <tr>\n",
       "      <th>990</th>\n",
       "      <td>990</td>\n",
       "      <td>37</td>\n",
       "      <td>male</td>\n",
       "      <td>1</td>\n",
       "      <td>own</td>\n",
       "      <td>NaN</td>\n",
       "      <td>NaN</td>\n",
       "      <td>3565</td>\n",
       "      <td>12</td>\n",
       "      <td>education</td>\n",
       "      <td>good</td>\n",
       "    </tr>\n",
       "    <tr>\n",
       "      <th>992</th>\n",
       "      <td>992</td>\n",
       "      <td>23</td>\n",
       "      <td>male</td>\n",
       "      <td>1</td>\n",
       "      <td>rent</td>\n",
       "      <td>NaN</td>\n",
       "      <td>little</td>\n",
       "      <td>1936</td>\n",
       "      <td>18</td>\n",
       "      <td>radio/TV</td>\n",
       "      <td>good</td>\n",
       "    </tr>\n",
       "    <tr>\n",
       "      <th>994</th>\n",
       "      <td>994</td>\n",
       "      <td>50</td>\n",
       "      <td>male</td>\n",
       "      <td>2</td>\n",
       "      <td>own</td>\n",
       "      <td>NaN</td>\n",
       "      <td>NaN</td>\n",
       "      <td>2390</td>\n",
       "      <td>12</td>\n",
       "      <td>car</td>\n",
       "      <td>good</td>\n",
       "    </tr>\n",
       "  </tbody>\n",
       "</table>\n",
       "<p>183 rows × 11 columns</p>\n",
       "</div>"
      ],
      "text/plain": [
       "     Unnamed: 0  Age   Sex  Job Housing Saving accounts Checking account  \\\n",
       "0             0   67  male    2     own             NaN           little   \n",
       "5             5   35  male    1    free             NaN              NaN   \n",
       "16           16   53  male    2     own             NaN              NaN   \n",
       "17           17   25  male    2     own             NaN           little   \n",
       "24           24   26  male    2     own             NaN              NaN   \n",
       "..          ...  ...   ...  ...     ...             ...              ...   \n",
       "968         968   29  male    2    rent             NaN              NaN   \n",
       "977         977   42  male    2     own             NaN         moderate   \n",
       "990         990   37  male    1     own             NaN              NaN   \n",
       "992         992   23  male    1    rent             NaN           little   \n",
       "994         994   50  male    2     own             NaN              NaN   \n",
       "\n",
       "     Credit amount  Duration              Purpose  Risk  \n",
       "0             1169         6             radio/TV  good  \n",
       "5             9055        36            education  good  \n",
       "16            2424        24             radio/TV  good  \n",
       "17            8072        30             business  good  \n",
       "24            2069        10  furniture/equipment  good  \n",
       "..             ...       ...                  ...   ...  \n",
       "968           7166        42             radio/TV  good  \n",
       "977           2427        18             business  good  \n",
       "990           3565        12            education  good  \n",
       "992           1936        18             radio/TV  good  \n",
       "994           2390        12                  car  good  \n",
       "\n",
       "[183 rows x 11 columns]"
      ]
     },
     "execution_count": 44,
     "metadata": {},
     "output_type": "execute_result"
    }
   ],
   "source": [
    "data[data[\"Saving accounts\"].isna()]"
   ]
  },
  {
   "cell_type": "code",
   "execution_count": 45,
   "id": "_G8a_qKvED7Z",
   "metadata": {
    "colab": {
     "base_uri": "https://localhost:8080/",
     "height": 0
    },
    "executionInfo": {
     "elapsed": 90,
     "status": "ok",
     "timestamp": 1736501614049,
     "user": {
      "displayName": "Moustapha Fall",
      "userId": "14093087170737290593"
     },
     "user_tz": 0
    },
    "id": "_G8a_qKvED7Z",
    "outputId": "c8ab79e3-f962-4cac-d539-ee0f72b958e9"
   },
   "outputs": [
    {
     "data": {
      "text/html": [
       "<div>\n",
       "<style scoped>\n",
       "    .dataframe tbody tr th:only-of-type {\n",
       "        vertical-align: middle;\n",
       "    }\n",
       "\n",
       "    .dataframe tbody tr th {\n",
       "        vertical-align: top;\n",
       "    }\n",
       "\n",
       "    .dataframe thead th {\n",
       "        text-align: right;\n",
       "    }\n",
       "</style>\n",
       "<table border=\"1\" class=\"dataframe\">\n",
       "  <thead>\n",
       "    <tr style=\"text-align: right;\">\n",
       "      <th>Housing</th>\n",
       "      <th>free</th>\n",
       "      <th>own</th>\n",
       "      <th>rent</th>\n",
       "    </tr>\n",
       "    <tr>\n",
       "      <th>Sex</th>\n",
       "      <th></th>\n",
       "      <th></th>\n",
       "      <th></th>\n",
       "    </tr>\n",
       "  </thead>\n",
       "  <tbody>\n",
       "    <tr>\n",
       "      <th>female</th>\n",
       "      <td>1</td>\n",
       "      <td>30</td>\n",
       "      <td>18</td>\n",
       "    </tr>\n",
       "    <tr>\n",
       "      <th>male</th>\n",
       "      <td>22</td>\n",
       "      <td>100</td>\n",
       "      <td>12</td>\n",
       "    </tr>\n",
       "  </tbody>\n",
       "</table>\n",
       "</div>"
      ],
      "text/plain": [
       "Housing  free  own  rent\n",
       "Sex                     \n",
       "female      1   30    18\n",
       "male       22  100    12"
      ]
     },
     "execution_count": 45,
     "metadata": {},
     "output_type": "execute_result"
    }
   ],
   "source": [
    "pd.crosstab(data[data['Saving accounts'].isna()]['Sex'], data[data[\"Saving accounts\"].isna()]['Housing'])"
   ]
  },
  {
   "cell_type": "code",
   "execution_count": 46,
   "id": "x6LaY-3v_Bl1",
   "metadata": {
    "colab": {
     "base_uri": "https://localhost:8080/",
     "height": 0
    },
    "executionInfo": {
     "elapsed": 88,
     "status": "ok",
     "timestamp": 1736501614050,
     "user": {
      "displayName": "Moustapha Fall",
      "userId": "14093087170737290593"
     },
     "user_tz": 0
    },
    "id": "x6LaY-3v_Bl1",
    "outputId": "7bfa1e98-1a8b-432e-cc31-fb06d904974c"
   },
   "outputs": [
    {
     "name": "stderr",
     "output_type": "stream",
     "text": [
      "C:\\Users\\utilisateur\\AppData\\Local\\Temp\\ipykernel_16864\\1300973556.py:1: FutureWarning: Downcasting object dtype arrays on .fillna, .ffill, .bfill is deprecated and will change in a future version. Call result.infer_objects(copy=False) instead. To opt-in to the future behavior, set `pd.set_option('future.no_silent_downcasting', True)`\n",
      "  data[data[\"Saving accounts\"].isna()].fillna(0).groupby(\"Job\")[\"Saving accounts\"].count()\n"
     ]
    },
    {
     "data": {
      "text/plain": [
       "Job\n",
       "0      5\n",
       "1     29\n",
       "2    120\n",
       "3     29\n",
       "Name: Saving accounts, dtype: int64"
      ]
     },
     "execution_count": 46,
     "metadata": {},
     "output_type": "execute_result"
    }
   ],
   "source": [
    "data[data[\"Saving accounts\"].isna()].fillna(0).groupby(\"Job\")[\"Saving accounts\"].count()"
   ]
  },
  {
   "cell_type": "markdown",
   "id": "Ydz9rC7aMbit",
   "metadata": {
    "id": "Ydz9rC7aMbit"
   },
   "source": [
    "Ce tableau croisé nous permet de constater qu'il y a également des femmes dans les données manquantes des comptes courants. De plus, nous ne nous sommes pas seulement au genre, nous avons égalements testé les autres catégories et avons remarqué que les données manquantes sont distribuées. Ceci nous laisse supposé que les données manquantes sont de types MCAR"
   ]
  },
  {
   "cell_type": "code",
   "execution_count": 47,
   "id": "0c179d42",
   "metadata": {
    "colab": {
     "base_uri": "https://localhost:8080/",
     "height": 0
    },
    "executionInfo": {
     "elapsed": 78,
     "status": "ok",
     "timestamp": 1736501614050,
     "user": {
      "displayName": "Moustapha Fall",
      "userId": "14093087170737290593"
     },
     "user_tz": 0
    },
    "id": "0c179d42",
    "outputId": "deac1d54-f116-4b6c-a156-53cc67eaaf78"
   },
   "outputs": [
    {
     "data": {
      "text/plain": [
       "Saving accounts\n",
       "little        603\n",
       "moderate      103\n",
       "quite rich     63\n",
       "rich           48\n",
       "Name: count, dtype: int64"
      ]
     },
     "execution_count": 47,
     "metadata": {},
     "output_type": "execute_result"
    }
   ],
   "source": [
    "data[\"Saving accounts\"].value_counts()"
   ]
  },
  {
   "cell_type": "code",
   "execution_count": 48,
   "id": "MAHPkw7w7_td",
   "metadata": {
    "colab": {
     "base_uri": "https://localhost:8080/",
     "height": 0
    },
    "executionInfo": {
     "elapsed": 76,
     "status": "ok",
     "timestamp": 1736501614051,
     "user": {
      "displayName": "Moustapha Fall",
      "userId": "14093087170737290593"
     },
     "user_tz": 0
    },
    "id": "MAHPkw7w7_td",
    "outputId": "77f60ab9-92df-4bf2-c099-01adf45071b6"
   },
   "outputs": [
    {
     "name": "stderr",
     "output_type": "stream",
     "text": [
      "C:\\Users\\utilisateur\\AppData\\Local\\Temp\\ipykernel_16864\\1669107391.py:1: FutureWarning: Downcasting object dtype arrays on .fillna, .ffill, .bfill is deprecated and will change in a future version. Call result.infer_objects(copy=False) instead. To opt-in to the future behavior, set `pd.set_option('future.no_silent_downcasting', True)`\n",
      "  data[data[\"Checking account\"].isna()].fillna(0).groupby(\"Risk\")[\"Checking account\"].count()\n"
     ]
    },
    {
     "data": {
      "text/plain": [
       "Risk\n",
       "bad      46\n",
       "good    348\n",
       "Name: Checking account, dtype: int64"
      ]
     },
     "execution_count": 48,
     "metadata": {},
     "output_type": "execute_result"
    }
   ],
   "source": [
    "data[data[\"Checking account\"].isna()].fillna(0).groupby(\"Risk\")[\"Checking account\"].count()"
   ]
  },
  {
   "cell_type": "code",
   "execution_count": 49,
   "id": "54fUHepO59y0",
   "metadata": {
    "colab": {
     "base_uri": "https://localhost:8080/",
     "height": 0
    },
    "executionInfo": {
     "elapsed": 66,
     "status": "ok",
     "timestamp": 1736501614051,
     "user": {
      "displayName": "Moustapha Fall",
      "userId": "14093087170737290593"
     },
     "user_tz": 0
    },
    "id": "54fUHepO59y0",
    "outputId": "fb9a7150-015e-413c-e6c0-971294b9165e"
   },
   "outputs": [
    {
     "name": "stderr",
     "output_type": "stream",
     "text": [
      "C:\\Users\\utilisateur\\AppData\\Local\\Temp\\ipykernel_16864\\3812440419.py:1: FutureWarning: Downcasting object dtype arrays on .fillna, .ffill, .bfill is deprecated and will change in a future version. Call result.infer_objects(copy=False) instead. To opt-in to the future behavior, set `pd.set_option('future.no_silent_downcasting', True)`\n",
      "  data[data[\"Checking account\"].isna()].fillna(0).groupby(\"Job\")[\"Checking account\"].count()\n"
     ]
    },
    {
     "data": {
      "text/plain": [
       "Job\n",
       "0      3\n",
       "1     70\n",
       "2    266\n",
       "3     55\n",
       "Name: Checking account, dtype: int64"
      ]
     },
     "execution_count": 49,
     "metadata": {},
     "output_type": "execute_result"
    }
   ],
   "source": [
    "data[data[\"Checking account\"].isna()].fillna(0).groupby(\"Job\")[\"Checking account\"].count()"
   ]
  },
  {
   "cell_type": "code",
   "execution_count": 50,
   "id": "q6J7zuU9xn_z",
   "metadata": {
    "colab": {
     "base_uri": "https://localhost:8080/",
     "height": 0
    },
    "executionInfo": {
     "elapsed": 1880,
     "status": "ok",
     "timestamp": 1736501615874,
     "user": {
      "displayName": "Moustapha Fall",
      "userId": "14093087170737290593"
     },
     "user_tz": 0
    },
    "id": "q6J7zuU9xn_z",
    "outputId": "c6e7e225-b541-413c-f22a-b28362cc3dd3"
   },
   "outputs": [
    {
     "name": "stdout",
     "output_type": "stream",
     "text": [
      "Total values of the most missing variable: \n",
      "Checking account\n",
      "little      274\n",
      "moderate    269\n",
      "rich         63\n",
      "Name: Checking account, dtype: int64\n"
     ]
    },
    {
     "data": {
      "image/png": "[encoded data removed]",
      "text/plain": [
       "<Figure size 1200x1000 with 3 Axes>"
      ]
     },
     "metadata": {},
     "output_type": "display_data"
    }
   ],
   "source": [
    "print(\"Total values of the most missing variable: \")\n",
    "print(data.groupby(\"Checking account\")[\"Checking account\"].count())\n",
    "\n",
    "plt.figure(figsize = (12,10))\n",
    "\n",
    "g = plt.subplot(221)\n",
    "g = sns.countplot(x=\"Checking account\", data=data,\n",
    "              palette=\"husl\", hue=\"Risk\")\n",
    "g.set_xlabel(\"Checking Account\", fontsize=12)\n",
    "g.set_ylabel(\"Count\", fontsize=12)\n",
    "g.set_title(\"Checking Account Counting by Risk\", fontsize=20)\n",
    "\n",
    "g1 = plt.subplot(222)\n",
    "g1 = sns.violinplot(x=\"Checking account\", y=\"Age\", data=data, palette=\"Set2\", hue = \"Risk\",split=True)\n",
    "g1.set_xlabel(\"Checking Account\", fontsize=12)\n",
    "g1.set_ylabel(\"Age\", fontsize=12)\n",
    "g1.set_title(\"Age by Checking Account\", fontsize=20)\n",
    "\n",
    "g2 = plt.subplot(212)\n",
    "g2 = sns.boxplot(x=\"Checking account\",y=\"Credit amount\", data=data,hue='Risk',palette=\"pastel\")\n",
    "g2.set_xlabel(\"Checking Account\", fontsize=12)\n",
    "g2.set_ylabel(\"Credit Amount(US)\", fontsize=12)\n",
    "g2.set_title(\"Credit Amount by Cheking Account\", fontsize=20)\n",
    "\n",
    "plt.subplots_adjust(wspace = 0.2, hspace = 0.3, top = 0.9)\n",
    "\n",
    "plt.show()\n",
    "plt.show()"
   ]
  },
  {
   "cell_type": "code",
   "execution_count": 51,
   "id": "bf522675",
   "metadata": {
    "executionInfo": {
     "elapsed": 44,
     "status": "ok",
     "timestamp": 1736501615875,
     "user": {
      "displayName": "Moustapha Fall",
      "userId": "14093087170737290593"
     },
     "user_tz": 0
    },
    "id": "bf522675"
   },
   "outputs": [],
   "source": [
    "### Remplacement par la categories la plus frequentes (Saving account)\n",
    "#data[\"Saving accounts\"].fillna(data['Saving accounts'].mode()[0], inplace=True)"
   ]
  },
  {
   "cell_type": "markdown",
   "id": "oDr6HAtdYZ94",
   "metadata": {
    "id": "oDr6HAtdYZ94"
   },
   "source": [
    "### Remplacement par la categorie Unknonnw"
   ]
  },
  {
   "cell_type": "code",
   "execution_count": 52,
   "id": "z9wOElPuZV_R",
   "metadata": {
    "colab": {
     "base_uri": "https://localhost:8080/"
    },
    "executionInfo": {
     "elapsed": 43,
     "status": "ok",
     "timestamp": 1736501615875,
     "user": {
      "displayName": "Moustapha Fall",
      "userId": "14093087170737290593"
     },
     "user_tz": 0
    },
    "id": "z9wOElPuZV_R",
    "outputId": "e1aef601-9af8-44cc-90f9-a9a099ce0098"
   },
   "outputs": [
    {
     "name": "stderr",
     "output_type": "stream",
     "text": [
      "C:\\Users\\utilisateur\\AppData\\Local\\Temp\\ipykernel_16864\\3473932153.py:1: FutureWarning: A value is trying to be set on a copy of a DataFrame or Series through chained assignment using an inplace method.\n",
      "The behavior will change in pandas 3.0. This inplace method will never work because the intermediate object on which we are setting values always behaves as a copy.\n",
      "\n",
      "For example, when doing 'df[col].method(value, inplace=True)', try using 'df.method({col: value}, inplace=True)' or df[col] = df[col].method(value) instead, to perform the operation inplace on the original object.\n",
      "\n",
      "\n",
      "  data[\"Saving accounts\"].fillna(\"unknown\", inplace=True)\n",
      "C:\\Users\\utilisateur\\AppData\\Local\\Temp\\ipykernel_16864\\3473932153.py:2: FutureWarning: A value is trying to be set on a copy of a DataFrame or Series through chained assignment using an inplace method.\n",
      "The behavior will change in pandas 3.0. This inplace method will never work because the intermediate object on which we are setting values always behaves as a copy.\n",
      "\n",
      "For example, when doing 'df[col].method(value, inplace=True)', try using 'df.method({col: value}, inplace=True)' or df[col] = df[col].method(value) instead, to perform the operation inplace on the original object.\n",
      "\n",
      "\n",
      "  data[\"Checking account\"].fillna(\"unknown\", inplace=True)\n"
     ]
    }
   ],
   "source": [
    "data[\"Saving accounts\"].fillna(\"unknown\", inplace=True)\n",
    "data[\"Checking account\"].fillna(\"unknown\", inplace=True)"
   ]
  },
  {
   "cell_type": "code",
   "execution_count": 53,
   "id": "4mXd8PIOBxdJ",
   "metadata": {
    "colab": {
     "base_uri": "https://localhost:8080/"
    },
    "executionInfo": {
     "elapsed": 34,
     "status": "ok",
     "timestamp": 1736501615875,
     "user": {
      "displayName": "Moustapha Fall",
      "userId": "14093087170737290593"
     },
     "user_tz": 0
    },
    "id": "4mXd8PIOBxdJ",
    "outputId": "7eddc4c1-705e-4f5c-bd7d-161b8b9b240a"
   },
   "outputs": [
    {
     "data": {
      "text/plain": [
       "np.int64(0)"
      ]
     },
     "execution_count": 53,
     "metadata": {},
     "output_type": "execute_result"
    }
   ],
   "source": [
    "data.isna().sum().sum()"
   ]
  },
  {
   "cell_type": "code",
   "execution_count": 54,
   "id": "e97312fb",
   "metadata": {
    "executionInfo": {
     "elapsed": 26,
     "status": "ok",
     "timestamp": 1736501615875,
     "user": {
      "displayName": "Moustapha Fall",
      "userId": "14093087170737290593"
     },
     "user_tz": 0
    },
    "id": "e97312fb"
   },
   "outputs": [],
   "source": [
    "#Remplacer les valleurs manquantes par la modalité la plus fréquente\n",
    "#data[\"Checking account\"].fillna(data[\"Checking account\"].mode()[0],inplace=True)\n",
    "# Remplacer les valeurs manquante par la médiane\n",
    "#data['Checking account'].fillna(data['Checking account'].median()[0], inplace=True)"
   ]
  },
  {
   "cell_type": "code",
   "execution_count": 55,
   "id": "2612f269",
   "metadata": {
    "colab": {
     "base_uri": "https://localhost:8080/",
     "height": 0
    },
    "executionInfo": {
     "elapsed": 25,
     "status": "ok",
     "timestamp": 1736501615875,
     "user": {
      "displayName": "Moustapha Fall",
      "userId": "14093087170737290593"
     },
     "user_tz": 0
    },
    "id": "2612f269",
    "outputId": "6ecf5909-b115-4998-f774-bf2cda1379cb"
   },
   "outputs": [
    {
     "data": {
      "text/plain": [
       "0        little\n",
       "1      moderate\n",
       "2       unknown\n",
       "3        little\n",
       "4        little\n",
       "         ...   \n",
       "995     unknown\n",
       "996      little\n",
       "997     unknown\n",
       "998      little\n",
       "999    moderate\n",
       "Name: Checking account, Length: 1000, dtype: object"
      ]
     },
     "execution_count": 55,
     "metadata": {},
     "output_type": "execute_result"
    }
   ],
   "source": [
    "data[\"Checking account\"]"
   ]
  },
  {
   "cell_type": "markdown",
   "id": "CPV0DhUdtZzo",
   "metadata": {
    "id": "CPV0DhUdtZzo"
   },
   "source": [
    "## <span style= \"font-family: Papyrus; font_size: 1em; font-style: underline; \"> 🔻Step 2.2 Détection et gestion des valeurs aberrantes</span>"
   ]
  },
  {
   "cell_type": "code",
   "execution_count": 56,
   "id": "n24sQCMM5gxG",
   "metadata": {
    "executionInfo": {
     "elapsed": 23,
     "status": "ok",
     "timestamp": 1736501615876,
     "user": {
      "displayName": "Moustapha Fall",
      "userId": "14093087170737290593"
     },
     "user_tz": 0
    },
    "id": "n24sQCMM5gxG"
   },
   "outputs": [],
   "source": [
    "\n",
    "def visualize_outliers(df, columns):\n",
    "    \"\"\"\n",
    "    Visualise les valeurs aberrantes dans les colonnes numériques spécifiées à l'aide de box plots.\n",
    "\n",
    "    :param df: DataFrame contenant les données\n",
    "    :param columns: Liste des colonnes numériques à visualiser\n",
    "    \"\"\"\n",
    "    for column in columns:\n",
    "        if column in df and df[column].dtype in [np.int64, np.float64]:  # Vérifie si la colonne est numérique\n",
    "            plt.figure(figsize=(8, 6))  # Crée une nouvelle figure pour chaque colonne\n",
    "            sns.boxplot(x=df[column])  # Crée un box plot pour la colonne\n",
    "            plt.title(f\"Box Plot de {column}\")  # Définit le titre du graphique\n",
    "            plt.xlabel(column)  # Définit le label de l'axe x\n",
    "            plt.show()  # Affiche le graphique\n",
    "\n",
    "def treat_outliers_with_median(df, columns):\n",
    "    \"\"\"\n",
    "    Traite les valeurs aberrantes dans les colonnes spécifiées en les remplaçant par la médiane.\n",
    "    Les valeurs aberrantes sont détectées en utilisant la méthode de l'écart interquartile (IQR).\n",
    "\n",
    "    :param df: DataFrame contenant les données\n",
    "    :param columns: Liste des colonnes à traiter\n",
    "    :return: DataFrame avec les valeurs aberrantes imputées\n",
    "    \"\"\"\n",
    "    for column in columns:\n",
    "        if column in df:\n",
    "            # Calcul des percentiles et de l'IQR\n",
    "            Q1 = df[column].quantile(0.25)\n",
    "            Q3 = df[column].quantile(0.75)\n",
    "            IQR = Q3 - Q1\n",
    "            lower_bound = Q1 - 1.5 * IQR\n",
    "            upper_bound = Q3 + 1.5 * IQR\n",
    "\n",
    "            # Calcul de la médiane\n",
    "            median_value = df[column].mean()\n",
    "\n",
    "            # Remplacer les valeurs aberrantes par la médiane\n",
    "            df[column] = df[column].apply(\n",
    "                lambda x: median_value if (x < lower_bound or x > upper_bound) else x\n",
    "            )\n",
    "    return df"
   ]
  },
  {
   "cell_type": "code",
   "execution_count": 57,
   "id": "l_B6qrteCxkZ",
   "metadata": {
    "colab": {
     "base_uri": "https://localhost:8080/",
     "height": 0
    },
    "executionInfo": {
     "elapsed": 737,
     "status": "ok",
     "timestamp": 1736501616591,
     "user": {
      "displayName": "Moustapha Fall",
      "userId": "14093087170737290593"
     },
     "user_tz": 0
    },
    "id": "l_B6qrteCxkZ",
    "outputId": "dd6284f6-eab3-4a23-c359-b7a97a8d8ad4"
   },
   "outputs": [
    {
     "data": {
      "image/png": "[encoded data removed]",
      "text/plain": [
       "<Figure size 800x600 with 1 Axes>"
      ]
     },
     "metadata": {},
     "output_type": "display_data"
    },
    {
     "data": {
      "image/png": "[encoded data removed]",
      "text/plain": [
       "<Figure size 800x600 with 1 Axes>"
      ]
     },
     "metadata": {},
     "output_type": "display_data"
    },
    {
     "data": {
      "image/png": "[encoded data removed]",
      "text/plain": [
       "<Figure size 800x600 with 1 Axes>"
      ]
     },
     "metadata": {},
     "output_type": "display_data"
    },
    {
     "data": {
      "image/png": "[encoded data removed]",
      "text/plain": [
       "<Figure size 800x600 with 1 Axes>"
      ]
     },
     "metadata": {},
     "output_type": "display_data"
    }
   ],
   "source": [
    "visualize_outliers(data, num_cols)"
   ]
  },
  {
   "cell_type": "code",
   "execution_count": 58,
   "id": "h1QC9pkVCxYQ",
   "metadata": {
    "colab": {
     "base_uri": "https://localhost:8080/",
     "height": 0
    },
    "executionInfo": {
     "elapsed": 31,
     "status": "ok",
     "timestamp": 1736501616592,
     "user": {
      "displayName": "Moustapha Fall",
      "userId": "14093087170737290593"
     },
     "user_tz": 0
    },
    "id": "h1QC9pkVCxYQ",
    "outputId": "a7e591fc-b9b1-40b3-d99b-f91d1d17400d"
   },
   "outputs": [
    {
     "data": {
      "text/html": [
       "<div>\n",
       "<style scoped>\n",
       "    .dataframe tbody tr th:only-of-type {\n",
       "        vertical-align: middle;\n",
       "    }\n",
       "\n",
       "    .dataframe tbody tr th {\n",
       "        vertical-align: top;\n",
       "    }\n",
       "\n",
       "    .dataframe thead th {\n",
       "        text-align: right;\n",
       "    }\n",
       "</style>\n",
       "<table border=\"1\" class=\"dataframe\">\n",
       "  <thead>\n",
       "    <tr style=\"text-align: right;\">\n",
       "      <th></th>\n",
       "      <th>Unnamed: 0</th>\n",
       "      <th>Age</th>\n",
       "      <th>Sex</th>\n",
       "      <th>Job</th>\n",
       "      <th>Housing</th>\n",
       "      <th>Saving accounts</th>\n",
       "      <th>Checking account</th>\n",
       "      <th>Credit amount</th>\n",
       "      <th>Duration</th>\n",
       "      <th>Purpose</th>\n",
       "      <th>Risk</th>\n",
       "    </tr>\n",
       "  </thead>\n",
       "  <tbody>\n",
       "    <tr>\n",
       "      <th>0</th>\n",
       "      <td>0</td>\n",
       "      <td>67</td>\n",
       "      <td>male</td>\n",
       "      <td>2</td>\n",
       "      <td>own</td>\n",
       "      <td>unknown</td>\n",
       "      <td>little</td>\n",
       "      <td>1169</td>\n",
       "      <td>6</td>\n",
       "      <td>radio/TV</td>\n",
       "      <td>good</td>\n",
       "    </tr>\n",
       "    <tr>\n",
       "      <th>1</th>\n",
       "      <td>1</td>\n",
       "      <td>22</td>\n",
       "      <td>female</td>\n",
       "      <td>2</td>\n",
       "      <td>own</td>\n",
       "      <td>little</td>\n",
       "      <td>moderate</td>\n",
       "      <td>5951</td>\n",
       "      <td>48</td>\n",
       "      <td>radio/TV</td>\n",
       "      <td>bad</td>\n",
       "    </tr>\n",
       "    <tr>\n",
       "      <th>2</th>\n",
       "      <td>2</td>\n",
       "      <td>49</td>\n",
       "      <td>male</td>\n",
       "      <td>1</td>\n",
       "      <td>own</td>\n",
       "      <td>little</td>\n",
       "      <td>unknown</td>\n",
       "      <td>2096</td>\n",
       "      <td>12</td>\n",
       "      <td>education</td>\n",
       "      <td>good</td>\n",
       "    </tr>\n",
       "    <tr>\n",
       "      <th>3</th>\n",
       "      <td>3</td>\n",
       "      <td>45</td>\n",
       "      <td>male</td>\n",
       "      <td>2</td>\n",
       "      <td>free</td>\n",
       "      <td>little</td>\n",
       "      <td>little</td>\n",
       "      <td>7882</td>\n",
       "      <td>42</td>\n",
       "      <td>furniture/equipment</td>\n",
       "      <td>good</td>\n",
       "    </tr>\n",
       "    <tr>\n",
       "      <th>4</th>\n",
       "      <td>4</td>\n",
       "      <td>53</td>\n",
       "      <td>male</td>\n",
       "      <td>2</td>\n",
       "      <td>free</td>\n",
       "      <td>little</td>\n",
       "      <td>little</td>\n",
       "      <td>4870</td>\n",
       "      <td>24</td>\n",
       "      <td>car</td>\n",
       "      <td>bad</td>\n",
       "    </tr>\n",
       "    <tr>\n",
       "      <th>...</th>\n",
       "      <td>...</td>\n",
       "      <td>...</td>\n",
       "      <td>...</td>\n",
       "      <td>...</td>\n",
       "      <td>...</td>\n",
       "      <td>...</td>\n",
       "      <td>...</td>\n",
       "      <td>...</td>\n",
       "      <td>...</td>\n",
       "      <td>...</td>\n",
       "      <td>...</td>\n",
       "    </tr>\n",
       "    <tr>\n",
       "      <th>995</th>\n",
       "      <td>995</td>\n",
       "      <td>31</td>\n",
       "      <td>female</td>\n",
       "      <td>1</td>\n",
       "      <td>own</td>\n",
       "      <td>little</td>\n",
       "      <td>unknown</td>\n",
       "      <td>1736</td>\n",
       "      <td>12</td>\n",
       "      <td>furniture/equipment</td>\n",
       "      <td>good</td>\n",
       "    </tr>\n",
       "    <tr>\n",
       "      <th>996</th>\n",
       "      <td>996</td>\n",
       "      <td>40</td>\n",
       "      <td>male</td>\n",
       "      <td>3</td>\n",
       "      <td>own</td>\n",
       "      <td>little</td>\n",
       "      <td>little</td>\n",
       "      <td>3857</td>\n",
       "      <td>30</td>\n",
       "      <td>car</td>\n",
       "      <td>good</td>\n",
       "    </tr>\n",
       "    <tr>\n",
       "      <th>997</th>\n",
       "      <td>997</td>\n",
       "      <td>38</td>\n",
       "      <td>male</td>\n",
       "      <td>2</td>\n",
       "      <td>own</td>\n",
       "      <td>little</td>\n",
       "      <td>unknown</td>\n",
       "      <td>804</td>\n",
       "      <td>12</td>\n",
       "      <td>radio/TV</td>\n",
       "      <td>good</td>\n",
       "    </tr>\n",
       "    <tr>\n",
       "      <th>998</th>\n",
       "      <td>998</td>\n",
       "      <td>23</td>\n",
       "      <td>male</td>\n",
       "      <td>2</td>\n",
       "      <td>free</td>\n",
       "      <td>little</td>\n",
       "      <td>little</td>\n",
       "      <td>1845</td>\n",
       "      <td>45</td>\n",
       "      <td>radio/TV</td>\n",
       "      <td>bad</td>\n",
       "    </tr>\n",
       "    <tr>\n",
       "      <th>999</th>\n",
       "      <td>999</td>\n",
       "      <td>27</td>\n",
       "      <td>male</td>\n",
       "      <td>2</td>\n",
       "      <td>own</td>\n",
       "      <td>moderate</td>\n",
       "      <td>moderate</td>\n",
       "      <td>4576</td>\n",
       "      <td>45</td>\n",
       "      <td>car</td>\n",
       "      <td>good</td>\n",
       "    </tr>\n",
       "  </tbody>\n",
       "</table>\n",
       "<p>1000 rows × 11 columns</p>\n",
       "</div>"
      ],
      "text/plain": [
       "     Unnamed: 0  Age     Sex  Job Housing Saving accounts Checking account  \\\n",
       "0             0   67    male    2     own         unknown           little   \n",
       "1             1   22  female    2     own          little         moderate   \n",
       "2             2   49    male    1     own          little          unknown   \n",
       "3             3   45    male    2    free          little           little   \n",
       "4             4   53    male    2    free          little           little   \n",
       "..          ...  ...     ...  ...     ...             ...              ...   \n",
       "995         995   31  female    1     own          little          unknown   \n",
       "996         996   40    male    3     own          little           little   \n",
       "997         997   38    male    2     own          little          unknown   \n",
       "998         998   23    male    2    free          little           little   \n",
       "999         999   27    male    2     own        moderate         moderate   \n",
       "\n",
       "     Credit amount  Duration              Purpose  Risk  \n",
       "0             1169         6             radio/TV  good  \n",
       "1             5951        48             radio/TV   bad  \n",
       "2             2096        12            education  good  \n",
       "3             7882        42  furniture/equipment  good  \n",
       "4             4870        24                  car   bad  \n",
       "..             ...       ...                  ...   ...  \n",
       "995           1736        12  furniture/equipment  good  \n",
       "996           3857        30                  car  good  \n",
       "997            804        12             radio/TV  good  \n",
       "998           1845        45             radio/TV   bad  \n",
       "999           4576        45                  car  good  \n",
       "\n",
       "[1000 rows x 11 columns]"
      ]
     },
     "execution_count": 58,
     "metadata": {},
     "output_type": "execute_result"
    }
   ],
   "source": [
    "data"
   ]
  },
  {
   "cell_type": "markdown",
   "id": "Bo31d3cxtxUg",
   "metadata": {
    "id": "Bo31d3cxtxUg"
   },
   "source": [
    "## <span style= \"font-family: Papyrus; font_size: 1em; font-style: underline; \"> 🔻Step 2.1 Détection et gestion des duplications</span>"
   ]
  },
  {
   "cell_type": "code",
   "execution_count": 24,
   "id": "0aaYEULrt584",
   "metadata": {
    "colab": {
     "base_uri": "https://localhost:8080/"
    },
    "executionInfo": {
     "elapsed": 27,
     "status": "ok",
     "timestamp": 1736501616592,
     "user": {
      "displayName": "Moustapha Fall",
      "userId": "14093087170737290593"
     },
     "user_tz": 0
    },
    "id": "0aaYEULrt584",
    "outputId": "6bcf707c-a87f-4b4c-a558-0432371207cd"
   },
   "outputs": [
    {
     "data": {
      "text/plain": [
       "np.int64(0)"
      ]
     },
     "execution_count": 24,
     "metadata": {},
     "output_type": "execute_result"
    }
   ],
   "source": [
    "#Detection duplicata\n",
    "data.duplicated().sum()"
   ]
  },
  {
   "cell_type": "markdown",
   "id": "Hh-0mOJpt6bJ",
   "metadata": {
    "id": "Hh-0mOJpt6bJ"
   },
   "source": [
    "# <span style= \"font-family: Papyrus; font_size: 1em; font-style: underline; \"> 🔻Step 2 |Feature engineering </span>"
   ]
  },
  {
   "cell_type": "code",
   "execution_count": 25,
   "id": "_64S6PyjIYeS",
   "metadata": {
    "executionInfo": {
     "elapsed": 5,
     "status": "ok",
     "timestamp": 1736464076726,
     "user": {
      "displayName": "Moustapha Fall",
      "userId": "14093087170737290593"
     },
     "user_tz": 0
    },
    "id": "_64S6PyjIYeS"
   },
   "outputs": [],
   "source": [
    "#feature engineering"
   ]
  },
  {
   "cell_type": "code",
   "execution_count": 59,
   "id": "8Td_y1h3QM41",
   "metadata": {
    "colab": {
     "base_uri": "https://localhost:8080/",
     "height": 478
    },
    "executionInfo": {
     "elapsed": 19,
     "status": "ok",
     "timestamp": 1736501616592,
     "user": {
      "displayName": "Moustapha Fall",
      "userId": "14093087170737290593"
     },
     "user_tz": 0
    },
    "id": "8Td_y1h3QM41",
    "outputId": "642052ef-f2e6-496a-cfd0-2ceea3e636c7"
   },
   "outputs": [
    {
     "data": {
      "text/html": [
       "<div>\n",
       "<style scoped>\n",
       "    .dataframe tbody tr th:only-of-type {\n",
       "        vertical-align: middle;\n",
       "    }\n",
       "\n",
       "    .dataframe tbody tr th {\n",
       "        vertical-align: top;\n",
       "    }\n",
       "\n",
       "    .dataframe thead th {\n",
       "        text-align: right;\n",
       "    }\n",
       "</style>\n",
       "<table border=\"1\" class=\"dataframe\">\n",
       "  <thead>\n",
       "    <tr style=\"text-align: right;\">\n",
       "      <th></th>\n",
       "      <th>Unnamed: 0</th>\n",
       "      <th>Age</th>\n",
       "      <th>Sex</th>\n",
       "      <th>Job</th>\n",
       "      <th>Credit amount</th>\n",
       "      <th>Duration</th>\n",
       "      <th>Purpose</th>\n",
       "      <th>Risk</th>\n",
       "      <th>Housing_free</th>\n",
       "      <th>Housing_own</th>\n",
       "      <th>Housing_rent</th>\n",
       "      <th>Saving accounts_little</th>\n",
       "      <th>Saving accounts_moderate</th>\n",
       "      <th>Saving accounts_quite rich</th>\n",
       "      <th>Saving accounts_rich</th>\n",
       "      <th>Saving accounts_unknown</th>\n",
       "      <th>Checking account_little</th>\n",
       "      <th>Checking account_moderate</th>\n",
       "      <th>Checking account_rich</th>\n",
       "      <th>Checking account_unknown</th>\n",
       "    </tr>\n",
       "  </thead>\n",
       "  <tbody>\n",
       "    <tr>\n",
       "      <th>0</th>\n",
       "      <td>0</td>\n",
       "      <td>67</td>\n",
       "      <td>0</td>\n",
       "      <td>2</td>\n",
       "      <td>1169</td>\n",
       "      <td>6</td>\n",
       "      <td>5</td>\n",
       "      <td>1</td>\n",
       "      <td>0</td>\n",
       "      <td>1</td>\n",
       "      <td>0</td>\n",
       "      <td>0</td>\n",
       "      <td>0</td>\n",
       "      <td>0</td>\n",
       "      <td>0</td>\n",
       "      <td>1</td>\n",
       "      <td>1</td>\n",
       "      <td>0</td>\n",
       "      <td>0</td>\n",
       "      <td>0</td>\n",
       "    </tr>\n",
       "    <tr>\n",
       "      <th>1</th>\n",
       "      <td>1</td>\n",
       "      <td>22</td>\n",
       "      <td>1</td>\n",
       "      <td>2</td>\n",
       "      <td>5951</td>\n",
       "      <td>48</td>\n",
       "      <td>5</td>\n",
       "      <td>0</td>\n",
       "      <td>0</td>\n",
       "      <td>1</td>\n",
       "      <td>0</td>\n",
       "      <td>1</td>\n",
       "      <td>0</td>\n",
       "      <td>0</td>\n",
       "      <td>0</td>\n",
       "      <td>0</td>\n",
       "      <td>0</td>\n",
       "      <td>1</td>\n",
       "      <td>0</td>\n",
       "      <td>0</td>\n",
       "    </tr>\n",
       "    <tr>\n",
       "      <th>2</th>\n",
       "      <td>2</td>\n",
       "      <td>49</td>\n",
       "      <td>0</td>\n",
       "      <td>1</td>\n",
       "      <td>2096</td>\n",
       "      <td>12</td>\n",
       "      <td>3</td>\n",
       "      <td>1</td>\n",
       "      <td>0</td>\n",
       "      <td>1</td>\n",
       "      <td>0</td>\n",
       "      <td>1</td>\n",
       "      <td>0</td>\n",
       "      <td>0</td>\n",
       "      <td>0</td>\n",
       "      <td>0</td>\n",
       "      <td>0</td>\n",
       "      <td>0</td>\n",
       "      <td>0</td>\n",
       "      <td>1</td>\n",
       "    </tr>\n",
       "    <tr>\n",
       "      <th>3</th>\n",
       "      <td>3</td>\n",
       "      <td>45</td>\n",
       "      <td>0</td>\n",
       "      <td>2</td>\n",
       "      <td>7882</td>\n",
       "      <td>42</td>\n",
       "      <td>4</td>\n",
       "      <td>1</td>\n",
       "      <td>1</td>\n",
       "      <td>0</td>\n",
       "      <td>0</td>\n",
       "      <td>1</td>\n",
       "      <td>0</td>\n",
       "      <td>0</td>\n",
       "      <td>0</td>\n",
       "      <td>0</td>\n",
       "      <td>1</td>\n",
       "      <td>0</td>\n",
       "      <td>0</td>\n",
       "      <td>0</td>\n",
       "    </tr>\n",
       "    <tr>\n",
       "      <th>4</th>\n",
       "      <td>4</td>\n",
       "      <td>53</td>\n",
       "      <td>0</td>\n",
       "      <td>2</td>\n",
       "      <td>4870</td>\n",
       "      <td>24</td>\n",
       "      <td>1</td>\n",
       "      <td>0</td>\n",
       "      <td>1</td>\n",
       "      <td>0</td>\n",
       "      <td>0</td>\n",
       "      <td>1</td>\n",
       "      <td>0</td>\n",
       "      <td>0</td>\n",
       "      <td>0</td>\n",
       "      <td>0</td>\n",
       "      <td>1</td>\n",
       "      <td>0</td>\n",
       "      <td>0</td>\n",
       "      <td>0</td>\n",
       "    </tr>\n",
       "    <tr>\n",
       "      <th>...</th>\n",
       "      <td>...</td>\n",
       "      <td>...</td>\n",
       "      <td>...</td>\n",
       "      <td>...</td>\n",
       "      <td>...</td>\n",
       "      <td>...</td>\n",
       "      <td>...</td>\n",
       "      <td>...</td>\n",
       "      <td>...</td>\n",
       "      <td>...</td>\n",
       "      <td>...</td>\n",
       "      <td>...</td>\n",
       "      <td>...</td>\n",
       "      <td>...</td>\n",
       "      <td>...</td>\n",
       "      <td>...</td>\n",
       "      <td>...</td>\n",
       "      <td>...</td>\n",
       "      <td>...</td>\n",
       "      <td>...</td>\n",
       "    </tr>\n",
       "    <tr>\n",
       "      <th>995</th>\n",
       "      <td>995</td>\n",
       "      <td>31</td>\n",
       "      <td>1</td>\n",
       "      <td>1</td>\n",
       "      <td>1736</td>\n",
       "      <td>12</td>\n",
       "      <td>4</td>\n",
       "      <td>1</td>\n",
       "      <td>0</td>\n",
       "      <td>1</td>\n",
       "      <td>0</td>\n",
       "      <td>1</td>\n",
       "      <td>0</td>\n",
       "      <td>0</td>\n",
       "      <td>0</td>\n",
       "      <td>0</td>\n",
       "      <td>0</td>\n",
       "      <td>0</td>\n",
       "      <td>0</td>\n",
       "      <td>1</td>\n",
       "    </tr>\n",
       "    <tr>\n",
       "      <th>996</th>\n",
       "      <td>996</td>\n",
       "      <td>40</td>\n",
       "      <td>0</td>\n",
       "      <td>3</td>\n",
       "      <td>3857</td>\n",
       "      <td>30</td>\n",
       "      <td>1</td>\n",
       "      <td>1</td>\n",
       "      <td>0</td>\n",
       "      <td>1</td>\n",
       "      <td>0</td>\n",
       "      <td>1</td>\n",
       "      <td>0</td>\n",
       "      <td>0</td>\n",
       "      <td>0</td>\n",
       "      <td>0</td>\n",
       "      <td>1</td>\n",
       "      <td>0</td>\n",
       "      <td>0</td>\n",
       "      <td>0</td>\n",
       "    </tr>\n",
       "    <tr>\n",
       "      <th>997</th>\n",
       "      <td>997</td>\n",
       "      <td>38</td>\n",
       "      <td>0</td>\n",
       "      <td>2</td>\n",
       "      <td>804</td>\n",
       "      <td>12</td>\n",
       "      <td>5</td>\n",
       "      <td>1</td>\n",
       "      <td>0</td>\n",
       "      <td>1</td>\n",
       "      <td>0</td>\n",
       "      <td>1</td>\n",
       "      <td>0</td>\n",
       "      <td>0</td>\n",
       "      <td>0</td>\n",
       "      <td>0</td>\n",
       "      <td>0</td>\n",
       "      <td>0</td>\n",
       "      <td>0</td>\n",
       "      <td>1</td>\n",
       "    </tr>\n",
       "    <tr>\n",
       "      <th>998</th>\n",
       "      <td>998</td>\n",
       "      <td>23</td>\n",
       "      <td>0</td>\n",
       "      <td>2</td>\n",
       "      <td>1845</td>\n",
       "      <td>45</td>\n",
       "      <td>5</td>\n",
       "      <td>0</td>\n",
       "      <td>1</td>\n",
       "      <td>0</td>\n",
       "      <td>0</td>\n",
       "      <td>1</td>\n",
       "      <td>0</td>\n",
       "      <td>0</td>\n",
       "      <td>0</td>\n",
       "      <td>0</td>\n",
       "      <td>1</td>\n",
       "      <td>0</td>\n",
       "      <td>0</td>\n",
       "      <td>0</td>\n",
       "    </tr>\n",
       "    <tr>\n",
       "      <th>999</th>\n",
       "      <td>999</td>\n",
       "      <td>27</td>\n",
       "      <td>0</td>\n",
       "      <td>2</td>\n",
       "      <td>4576</td>\n",
       "      <td>45</td>\n",
       "      <td>1</td>\n",
       "      <td>1</td>\n",
       "      <td>0</td>\n",
       "      <td>1</td>\n",
       "      <td>0</td>\n",
       "      <td>0</td>\n",
       "      <td>1</td>\n",
       "      <td>0</td>\n",
       "      <td>0</td>\n",
       "      <td>0</td>\n",
       "      <td>0</td>\n",
       "      <td>1</td>\n",
       "      <td>0</td>\n",
       "      <td>0</td>\n",
       "    </tr>\n",
       "  </tbody>\n",
       "</table>\n",
       "<p>1000 rows × 20 columns</p>\n",
       "</div>"
      ],
      "text/plain": [
       "     Unnamed: 0  Age  Sex  Job  Credit amount  Duration  Purpose  Risk  \\\n",
       "0             0   67    0    2           1169         6        5     1   \n",
       "1             1   22    1    2           5951        48        5     0   \n",
       "2             2   49    0    1           2096        12        3     1   \n",
       "3             3   45    0    2           7882        42        4     1   \n",
       "4             4   53    0    2           4870        24        1     0   \n",
       "..          ...  ...  ...  ...            ...       ...      ...   ...   \n",
       "995         995   31    1    1           1736        12        4     1   \n",
       "996         996   40    0    3           3857        30        1     1   \n",
       "997         997   38    0    2            804        12        5     1   \n",
       "998         998   23    0    2           1845        45        5     0   \n",
       "999         999   27    0    2           4576        45        1     1   \n",
       "\n",
       "     Housing_free  Housing_own  Housing_rent  Saving accounts_little  \\\n",
       "0               0            1             0                       0   \n",
       "1               0            1             0                       1   \n",
       "2               0            1             0                       1   \n",
       "3               1            0             0                       1   \n",
       "4               1            0             0                       1   \n",
       "..            ...          ...           ...                     ...   \n",
       "995             0            1             0                       1   \n",
       "996             0            1             0                       1   \n",
       "997             0            1             0                       1   \n",
       "998             1            0             0                       1   \n",
       "999             0            1             0                       0   \n",
       "\n",
       "     Saving accounts_moderate  Saving accounts_quite rich  \\\n",
       "0                           0                           0   \n",
       "1                           0                           0   \n",
       "2                           0                           0   \n",
       "3                           0                           0   \n",
       "4                           0                           0   \n",
       "..                        ...                         ...   \n",
       "995                         0                           0   \n",
       "996                         0                           0   \n",
       "997                         0                           0   \n",
       "998                         0                           0   \n",
       "999                         1                           0   \n",
       "\n",
       "     Saving accounts_rich  Saving accounts_unknown  Checking account_little  \\\n",
       "0                       0                        1                        1   \n",
       "1                       0                        0                        0   \n",
       "2                       0                        0                        0   \n",
       "3                       0                        0                        1   \n",
       "4                       0                        0                        1   \n",
       "..                    ...                      ...                      ...   \n",
       "995                     0                        0                        0   \n",
       "996                     0                        0                        1   \n",
       "997                     0                        0                        0   \n",
       "998                     0                        0                        1   \n",
       "999                     0                        0                        0   \n",
       "\n",
       "     Checking account_moderate  Checking account_rich  \\\n",
       "0                            0                      0   \n",
       "1                            1                      0   \n",
       "2                            0                      0   \n",
       "3                            0                      0   \n",
       "4                            0                      0   \n",
       "..                         ...                    ...   \n",
       "995                          0                      0   \n",
       "996                          0                      0   \n",
       "997                          0                      0   \n",
       "998                          0                      0   \n",
       "999                          1                      0   \n",
       "\n",
       "     Checking account_unknown  \n",
       "0                           0  \n",
       "1                           0  \n",
       "2                           1  \n",
       "3                           0  \n",
       "4                           0  \n",
       "..                        ...  \n",
       "995                         1  \n",
       "996                         0  \n",
       "997                         1  \n",
       "998                         0  \n",
       "999                         0  \n",
       "\n",
       "[1000 rows x 20 columns]"
      ]
     },
     "execution_count": 59,
     "metadata": {},
     "output_type": "execute_result"
    }
   ],
   "source": [
    "#one hot encoding categorical columns\n",
    "data = pd.get_dummies(data, columns=['Housing', 'Saving accounts', 'Checking account'], dtype=int)\n",
    "#label encoding for Purpose\n",
    "import sklearn.preprocessing as preprocessing\n",
    "label_encoder = preprocessing.LabelEncoder()\n",
    "data['Purpose'] = label_encoder.fit_transform(data['Purpose'])\n",
    "data['Sex'] = data['Sex'].map({'male': 0, 'female': 1})\n",
    "data['Risk'] = data['Risk'].map({'bad': 0, 'good': 1})\n",
    "data"
   ]
  },
  {
   "cell_type": "code",
   "execution_count": 27,
   "id": "i7R-EJJiIYSb",
   "metadata": {
    "colab": {
     "base_uri": "https://localhost:8080/"
    },
    "executionInfo": {
     "elapsed": 10,
     "status": "ok",
     "timestamp": 1736464107411,
     "user": {
      "displayName": "Moustapha Fall",
      "userId": "14093087170737290593"
     },
     "user_tz": 0
    },
    "id": "i7R-EJJiIYSb",
    "outputId": "437ea2da-476f-4d0d-83c4-353acda9ffc0"
   },
   "outputs": [
    {
     "data": {
      "text/plain": [
       "(1000, 19)"
      ]
     },
     "execution_count": 27,
     "metadata": {},
     "output_type": "execute_result"
    }
   ],
   "source": [
    "data.shape"
   ]
  },
  {
   "cell_type": "code",
   "execution_count": 30,
   "id": "30b76f92",
   "metadata": {},
   "outputs": [
    {
     "data": {
      "text/plain": [
       "(1000, 18)"
      ]
     },
     "execution_count": 30,
     "metadata": {},
     "output_type": "execute_result"
    }
   ],
   "source": [
    "data.to_csv('../../data/processed/preprocessed_data', index=False)\n",
    "print(\"Preprocessed data saved successfully.\")"
   ]
  },
  {
   "cell_type": "code",
   "execution_count": 32,
   "id": "eff82a65",
   "metadata": {},
   "outputs": [
    {
     "data": {
      "text/plain": [
       "Index(['Age', 'Sex', 'Job', 'Credit amount', 'Duration', 'Purpose',\n",
       "       'Housing_free', 'Housing_own', 'Housing_rent', 'Saving accounts_little',\n",
       "       'Saving accounts_moderate', 'Saving accounts_quite rich',\n",
       "       'Saving accounts_rich', 'Saving accounts_unknown',\n",
       "       'Checking account_little', 'Checking account_moderate',\n",
       "       'Checking account_rich', 'Checking account_unknown'],\n",
       "      dtype='object')"
      ]
     },
     "execution_count": 32,
     "metadata": {},
     "output_type": "execute_result"
    }
   ],
   "source": [
    "X.columns"
   ]
  },
  {
   "cell_type": "markdown",
   "id": "7j6gJMinI-Lh",
   "metadata": {
    "id": "7j6gJMinI-Lh"
   },
   "source": [
    "# <span style= \"font-family: Papyrus; font_size: 1em; font-style: underline; \"> 🔻Step 2 | Modélisation\n",
    " </span>"
   ]
  },
  {
   "cell_type": "markdown",
   "id": "2DPnNlWbMv7_",
   "metadata": {
    "id": "2DPnNlWbMv7_"
   },
   "source": [
    "### 2.1Chargement des fonctions necessaires"
   ]
  },
  {
   "cell_type": "code",
   "execution_count": 15,
   "id": "UJnOyug_M1Wc",
   "metadata": {
    "executionInfo": {
     "elapsed": 13,
     "status": "ok",
     "timestamp": 1736501616592,
     "user": {
      "displayName": "Moustapha Fall",
      "userId": "14093087170737290593"
     },
     "user_tz": 0
    },
    "id": "UJnOyug_M1Wc"
   },
   "outputs": [],
   "source": [
    "def plot_boxplot_of_probabilities(model, X_test, y_test, y_test_prob, title, threshold=0.5):\n",
    "    \"\"\"\n",
    "    Trace une boîte à moustaches des probabilités prédites pour les faux positifs et les faux négatifs.\n",
    "\n",
    "    Parameters:\n",
    "    - model : le modèle de machine learning\n",
    "    - X_test : les caractéristiques de test\n",
    "    - y_test : les étiquettes de test\n",
    "    - y_test_prob : les probabilités prédites pour les étiquettes de test\n",
    "    - threshold : le seuil pour déterminer les prédictions positives (par défaut à 0.5)\n",
    "    \"\"\"\n",
    "    # Conversion de y_test en série si ce n'est pas déjà le cas\n",
    "    if isinstance(y_test, pd.DataFrame):\n",
    "        y_test = y_test.squeeze()\n",
    "    elif isinstance(y_test, np.ndarray):\n",
    "        y_test = pd.Series(y_test)\n",
    "\n",
    "    # Vérifier que y_test_prob est de la même longueur que y_test\n",
    "    if len(y_test) != len(y_test_prob):\n",
    "        raise ValueError(\"La longueur de y_test_prob doit être égale à celle de y_test\")\n",
    "\n",
    "    # Détermination des faux positifs et faux négatifs\n",
    "    fp_probs = y_test_prob[(y_test_prob >= threshold) & (y_test == 0)]\n",
    "    fn_probs = y_test_prob[(y_test_prob <= threshold) & (y_test == 1)]\n",
    "\n",
    "    # Création de la boîte à moustaches\n",
    "    plt.figure(figsize=(8, 6))\n",
    "    sns.boxplot(data=[fp_probs, fn_probs], notch=True, palette=['red', 'blue'])\n",
    "    plt.xticks([0, 1], ['Faux Positifs', 'Faux Négatifs'])\n",
    "    plt.ylabel('Probabilités Prédites')\n",
    "    plt.title(title) #'Distribution des probabilités pour les Faux Positifs et Faux Négatifs'\n",
    "    plt.show()\n",
    "\n",
    "def plot_roc_curve(y_true, y_pred_proba, model_name=\"Model\"):\n",
    "    \"\"\"\n",
    "    Tracer la courbe ROC pour les prédictions de probabilité d'un modèle.\n",
    "\n",
    "    Parameters:\n",
    "    - y_true : array, vrai labels des données de test.\n",
    "    - y_pred_proba : array, probabilités prédites de la classe positive par le modèle.\n",
    "    - model_name : str, le nom du modèle pour afficher dans le titre du graphique.\n",
    "\n",
    "    Returns:\n",
    "    - Aucun, affiche un graphique.\n",
    "    \"\"\"\n",
    "    # Calcul des taux pour la courbe ROC\n",
    "    fpr, tpr, _ = roc_curve(y_true, y_pred_proba)\n",
    "    roc_auc = auc(fpr, tpr)\n",
    "\n",
    "    # Tracé de la courbe ROC\n",
    "    plt.figure(figsize=(8, 6))\n",
    "    plt.plot(fpr, tpr, color='darkorange', lw=2, label=f'ROC curve (area = {roc_auc:.2f})')\n",
    "    plt.plot([0, 1], [0, 1], color='navy', lw=2, linestyle='--')\n",
    "    plt.xlabel('False Positive Rate')\n",
    "    plt.ylabel('True Positive Rate')\n",
    "    plt.title(model_name)\n",
    "    plt.legend(loc=\"lower right\")\n",
    "    plt.grid(True)\n",
    "    plt.show()\n",
    "\n",
    "from sklearn.metrics import confusion_matrix, classification_report, recall_score, roc_auc_score, accuracy_score, precision_score, f1_score\n",
    "def evaluate_tree_ensemble_model(model, X_train, y_train, X_test, y_test, y_train_proba, y_test_proba, threshold=0.5):\n",
    "    \"\"\"\n",
    "    Evaluate the tree ensemble model by calculating performance metrics and displaying both confusion matrices and a table of metrics.\n",
    "\n",
    "    Args:\n",
    "        model: Trained tree ensemble model (e.g., RandomForest, XGBoost).\n",
    "        X_train, y_train: Training data and labels.\n",
    "        X_test, y_test: Testing data and labels.\n",
    "        threshold: Probability threshold to determine class labels.\n",
    "    \"\"\"\n",
    "    # Convert probabilities to binary predictions based on the threshold\n",
    "    y_train_pred = (y_train_proba >= threshold).astype(int)\n",
    "    y_test_pred = (y_test_proba >= threshold).astype(int)\n",
    "\n",
    "    # Display confusion matrices\n",
    "    cm_train = confusion_matrix(y_train, y_train_pred)\n",
    "    cm_test = confusion_matrix(y_test, y_test_pred)\n",
    "    fig, ax = plt.subplots(1, 2, figsize=(12, 5))\n",
    "    sns.heatmap(cm_train, annot=True, fmt=\"d\", ax=ax[0], cmap=\"Blues\")\n",
    "    ax[0].set_title(\"Confusion Matrix (Train)\")\n",
    "    ax[0].set_xlabel(\"Predicted Labels\")\n",
    "    ax[0].set_ylabel(\"True Labels\")\n",
    "    sns.heatmap(cm_test, annot=True, fmt=\"d\", ax=ax[1], cmap=\"Blues\")\n",
    "    ax[1].set_title(\"Confusion Matrix (Test)\")\n",
    "    ax[1].set_xlabel(\"Predicted Labels\")\n",
    "    ax[1].set_ylabel(\"True Labels\")\n",
    "    plt.show()\n",
    "\n",
    "    # Calculate metrics\n",
    "    metrics = {\n",
    "        'Metric': ['Recall', 'AUC', 'Accuracy', 'Precision', 'F1 Score'],\n",
    "        'Train': [\n",
    "            recall_score(y_train, y_train_pred),\n",
    "            roc_auc_score(y_train, y_train_proba),\n",
    "            accuracy_score(y_train, y_train_pred),\n",
    "            precision_score(y_train, y_train_pred),\n",
    "            f1_score(y_train, y_train_pred)\n",
    "        ],\n",
    "        'Test': [\n",
    "            recall_score(y_test, y_test_pred),\n",
    "            roc_auc_score(y_test, y_test_proba),\n",
    "            accuracy_score(y_test, y_test_pred),\n",
    "            precision_score(y_test, y_test_pred),\n",
    "            f1_score(y_test, y_test_pred)\n",
    "        ]\n",
    "    }\n",
    "\n",
    "    # Create and print a DataFrame for displaying metrics\n",
    "    results_df = pd.DataFrame(metrics)\n",
    "    print(results_df.set_index('Metric'))\n",
    "    return results_df\n",
    "\n",
    "def plot_confidence_histogram(model, X_test, y_test, y_test_prob, title, threshold=0.5):\n",
    "    \"\"\"\n",
    "    Trace un histogramme de confiance des probabilités prédites pour les faux positifs et les faux négatifs.\n",
    "\n",
    "    Parameters:\n",
    "    - model : le modèle de machine learning\n",
    "    - X_test : les caractéristiques de test\n",
    "    - y_test : les étiquettes de test\n",
    "    - y_test_prob : les probabilités prédites pour les étiquettes de test\n",
    "    - threshold : le seuil pour déterminer les prédictions positives (par défaut à 0.5)\n",
    "    \"\"\"\n",
    "    # Conversion de y_test en série si ce n'est pas déjà le cas\n",
    "    if isinstance(y_test, pd.DataFrame):\n",
    "        y_test = y_test.squeeze()\n",
    "    elif isinstance(y_test, np.ndarray):\n",
    "        y_test = pd.Series(y_test)\n",
    "\n",
    "    # Vérifier que y_test_prob est de la même longueur que y_test\n",
    "    if len(y_test) != len(y_test_prob):\n",
    "        raise ValueError(\"La longueur de y_test_prob doit être égale à celle de y_test\")\n",
    "\n",
    "    # Détermination des faux positifs et faux négatifs\n",
    "    fp_probs = y_test_prob[(y_test_prob >= threshold) & (y_test == 0)]\n",
    "    fn_probs = y_test_prob[(y_test_prob <= threshold) & (y_test == 1)]\n",
    "\n",
    "    # Création de l'histogramme\n",
    "    plt.figure(figsize=(12, 8))\n",
    "    plt.hist(fp_probs, bins=30, alpha=0.5, label='Faux Positifs', color='red')\n",
    "    plt.hist(fn_probs, bins=30, alpha=0.5, label='Faux Négatifs', color='blue')\n",
    "    plt.xlabel('Probabilité prédite')\n",
    "    plt.ylabel('Nombre d\\'observations')\n",
    "    plt.title(title)#Histogramme de Confiance des Prédictions\n",
    "    plt.xlim(0, 1)\n",
    "    plt.legend()\n",
    "    plt.show()\n",
    "\n",
    "\n",
    "def plot_feature_importances(model, feature_names, title, top_n=16):\n",
    "    \"\"\"\n",
    "    Plot the top n feature importances of the given model.\n",
    "\n",
    "    Args:\n",
    "        model: The trained model, e.g., an instance of RandomForestClassifier or RandomForestRegressor.\n",
    "        feature_names (list): A list of names corresponding to the features in the training data.\n",
    "        top_n (int): The number of top features to display.\n",
    "    \"\"\"\n",
    "    # Extract feature importances from the model\n",
    "    importances = model.feature_importances_\n",
    "\n",
    "    # Create a DataFrame for easier handling\n",
    "    feature_importances = pd.DataFrame({'feature': feature_names, 'importance': importances})\n",
    "\n",
    "    # Sort features according to importance\n",
    "    feature_importances = feature_importances.sort_values(by='importance', ascending=False)\n",
    "\n",
    "    # Select top n features\n",
    "    feature_importances = feature_importances.head(top_n)\n",
    "\n",
    "    # Plotting\n",
    "    plt.figure(figsize=(10, 6))\n",
    "    sns.barplot(x='importance', y='feature', data=feature_importances)\n",
    "\n",
    "    plt.title(title)\n",
    "    plt.xlabel('Importance')\n",
    "    plt.ylabel('Features')\n",
    "    plt.show()"
   ]
  },
  {
   "cell_type": "markdown",
   "id": "WYJ_pncgNIYQ",
   "metadata": {
    "id": "WYJ_pncgNIYQ"
   },
   "source": [
    "### Préparation des donnees d'entrainement et de test"
   ]
  },
  {
   "cell_type": "code",
   "execution_count": 29,
   "id": "aVB8sWAHI92C",
   "metadata": {
    "executionInfo": {
     "elapsed": 369,
     "status": "ok",
     "timestamp": 1736501619439,
     "user": {
      "displayName": "Moustapha Fall",
      "userId": "14093087170737290593"
     },
     "user_tz": 0
    },
    "id": "aVB8sWAHI92C"
   },
   "outputs": [],
   "source": [
    "from sklearn.model_selection import train_test_split\n",
    "# Séparations des features au target\n",
    "X, y = data.drop('Risk', axis=1), data['Risk']\n",
    "# Séparations en ensembles d'entrainement et de test pour les features et le target\n",
    "X_train,X_test, y_train, y_test = train_test_split(X, y, stratify=y, shuffle=True, random_state=0)"
   ]
  },
  {
   "cell_type": "markdown",
   "id": "r62pGJq3NODG",
   "metadata": {
    "id": "r62pGJq3NODG"
   },
   "source": [
    "### XGBoost model"
   ]
  },
  {
   "cell_type": "code",
   "execution_count": 39,
   "id": "Cw5khRjdNS-n",
   "metadata": {
    "executionInfo": {
     "elapsed": 656,
     "status": "ok",
     "timestamp": 1736464118851,
     "user": {
      "displayName": "Moustapha Fall",
      "userId": "14093087170737290593"
     },
     "user_tz": 0
    },
    "id": "Cw5khRjdNS-n"
   },
   "outputs": [
    {
     "ename": "AttributeError",
     "evalue": "'super' object has no attribute '__sklearn_tags__'",
     "output_type": "error",
     "traceback": [
      "\u001b[1;31m---------------------------------------------------------------------------\u001b[0m",
      "\u001b[1;31mAttributeError\u001b[0m                            Traceback (most recent call last)",
      "Cell \u001b[1;32mIn[39], line 33\u001b[0m\n\u001b[0;32m     19\u001b[0m grid_search \u001b[38;5;241m=\u001b[39m GridSearchCV(\n\u001b[0;32m     20\u001b[0m     estimator\u001b[38;5;241m=\u001b[39mxgb\u001b[38;5;241m.\u001b[39mXGBClassifier(\n\u001b[0;32m     21\u001b[0m         objective\u001b[38;5;241m=\u001b[39m\u001b[38;5;124m'\u001b[39m\u001b[38;5;124mbinary:logistic\u001b[39m\u001b[38;5;124m'\u001b[39m,\n\u001b[1;32m   (...)\u001b[0m\n\u001b[0;32m     29\u001b[0m     n_jobs\u001b[38;5;241m=\u001b[39m\u001b[38;5;241m-\u001b[39m\u001b[38;5;241m1\u001b[39m\n\u001b[0;32m     30\u001b[0m )\n\u001b[0;32m     32\u001b[0m \u001b[38;5;66;03m# Exécution de la recherche en grille\u001b[39;00m\n\u001b[1;32m---> 33\u001b[0m \u001b[43mgrid_search\u001b[49m\u001b[38;5;241;43m.\u001b[39;49m\u001b[43mfit\u001b[49m\u001b[43m(\u001b[49m\u001b[43mX_train\u001b[49m\u001b[43m,\u001b[49m\u001b[43m \u001b[49m\u001b[43my_train\u001b[49m\u001b[43m)\u001b[49m\n\u001b[0;32m     35\u001b[0m \u001b[38;5;66;03m# Affichage des meilleurs paramètres\u001b[39;00m\n\u001b[0;32m     36\u001b[0m \u001b[38;5;28mprint\u001b[39m(\u001b[38;5;124m\"\u001b[39m\u001b[38;5;124mMeilleurs hyperparamètres trouvés : \u001b[39m\u001b[38;5;124m\"\u001b[39m, grid_search\u001b[38;5;241m.\u001b[39mbest_params_)\n",
      "File \u001b[1;32mC:\\Python312\\Lib\\site-packages\\sklearn\\base.py:1389\u001b[0m, in \u001b[0;36m_fit_context.<locals>.decorator.<locals>.wrapper\u001b[1;34m(estimator, *args, **kwargs)\u001b[0m\n\u001b[0;32m   1382\u001b[0m     estimator\u001b[38;5;241m.\u001b[39m_validate_params()\n\u001b[0;32m   1384\u001b[0m \u001b[38;5;28;01mwith\u001b[39;00m config_context(\n\u001b[0;32m   1385\u001b[0m     skip_parameter_validation\u001b[38;5;241m=\u001b[39m(\n\u001b[0;32m   1386\u001b[0m         prefer_skip_nested_validation \u001b[38;5;129;01mor\u001b[39;00m global_skip_validation\n\u001b[0;32m   1387\u001b[0m     )\n\u001b[0;32m   1388\u001b[0m ):\n\u001b[1;32m-> 1389\u001b[0m     \u001b[38;5;28;01mreturn\u001b[39;00m \u001b[43mfit_method\u001b[49m\u001b[43m(\u001b[49m\u001b[43mestimator\u001b[49m\u001b[43m,\u001b[49m\u001b[43m \u001b[49m\u001b[38;5;241;43m*\u001b[39;49m\u001b[43margs\u001b[49m\u001b[43m,\u001b[49m\u001b[43m \u001b[49m\u001b[38;5;241;43m*\u001b[39;49m\u001b[38;5;241;43m*\u001b[39;49m\u001b[43mkwargs\u001b[49m\u001b[43m)\u001b[49m\n",
      "File \u001b[1;32mC:\\Python312\\Lib\\site-packages\\sklearn\\model_selection\\_search.py:933\u001b[0m, in \u001b[0;36mBaseSearchCV.fit\u001b[1;34m(self, X, y, **params)\u001b[0m\n\u001b[0;32m    929\u001b[0m params \u001b[38;5;241m=\u001b[39m _check_method_params(X, params\u001b[38;5;241m=\u001b[39mparams)\n\u001b[0;32m    931\u001b[0m routed_params \u001b[38;5;241m=\u001b[39m \u001b[38;5;28mself\u001b[39m\u001b[38;5;241m.\u001b[39m_get_routed_params_for_fit(params)\n\u001b[1;32m--> 933\u001b[0m cv_orig \u001b[38;5;241m=\u001b[39m check_cv(\u001b[38;5;28mself\u001b[39m\u001b[38;5;241m.\u001b[39mcv, y, classifier\u001b[38;5;241m=\u001b[39m\u001b[43mis_classifier\u001b[49m\u001b[43m(\u001b[49m\u001b[43mestimator\u001b[49m\u001b[43m)\u001b[49m)\n\u001b[0;32m    934\u001b[0m n_splits \u001b[38;5;241m=\u001b[39m cv_orig\u001b[38;5;241m.\u001b[39mget_n_splits(X, y, \u001b[38;5;241m*\u001b[39m\u001b[38;5;241m*\u001b[39mrouted_params\u001b[38;5;241m.\u001b[39msplitter\u001b[38;5;241m.\u001b[39msplit)\n\u001b[0;32m    936\u001b[0m base_estimator \u001b[38;5;241m=\u001b[39m clone(\u001b[38;5;28mself\u001b[39m\u001b[38;5;241m.\u001b[39mestimator)\n",
      "File \u001b[1;32mC:\\Python312\\Lib\\site-packages\\sklearn\\base.py:1237\u001b[0m, in \u001b[0;36mis_classifier\u001b[1;34m(estimator)\u001b[0m\n\u001b[0;32m   1230\u001b[0m     warnings\u001b[38;5;241m.\u001b[39mwarn(\n\u001b[0;32m   1231\u001b[0m         \u001b[38;5;124mf\u001b[39m\u001b[38;5;124m\"\u001b[39m\u001b[38;5;124mpassing a class to \u001b[39m\u001b[38;5;132;01m{\u001b[39;00m\u001b[38;5;28mprint\u001b[39m(inspect\u001b[38;5;241m.\u001b[39mstack()[\u001b[38;5;241m0\u001b[39m][\u001b[38;5;241m3\u001b[39m])\u001b[38;5;132;01m}\u001b[39;00m\u001b[38;5;124m is deprecated and \u001b[39m\u001b[38;5;124m\"\u001b[39m\n\u001b[0;32m   1232\u001b[0m         \u001b[38;5;124m\"\u001b[39m\u001b[38;5;124mwill be removed in 1.8. Use an instance of the class instead.\u001b[39m\u001b[38;5;124m\"\u001b[39m,\n\u001b[0;32m   1233\u001b[0m         \u001b[38;5;167;01mFutureWarning\u001b[39;00m,\n\u001b[0;32m   1234\u001b[0m     )\n\u001b[0;32m   1235\u001b[0m     \u001b[38;5;28;01mreturn\u001b[39;00m \u001b[38;5;28mgetattr\u001b[39m(estimator, \u001b[38;5;124m\"\u001b[39m\u001b[38;5;124m_estimator_type\u001b[39m\u001b[38;5;124m\"\u001b[39m, \u001b[38;5;28;01mNone\u001b[39;00m) \u001b[38;5;241m==\u001b[39m \u001b[38;5;124m\"\u001b[39m\u001b[38;5;124mclassifier\u001b[39m\u001b[38;5;124m\"\u001b[39m\n\u001b[1;32m-> 1237\u001b[0m \u001b[38;5;28;01mreturn\u001b[39;00m \u001b[43mget_tags\u001b[49m\u001b[43m(\u001b[49m\u001b[43mestimator\u001b[49m\u001b[43m)\u001b[49m\u001b[38;5;241m.\u001b[39mestimator_type \u001b[38;5;241m==\u001b[39m \u001b[38;5;124m\"\u001b[39m\u001b[38;5;124mclassifier\u001b[39m\u001b[38;5;124m\"\u001b[39m\n",
      "File \u001b[1;32mC:\\Python312\\Lib\\site-packages\\sklearn\\utils\\_tags.py:430\u001b[0m, in \u001b[0;36mget_tags\u001b[1;34m(estimator)\u001b[0m\n\u001b[0;32m    428\u001b[0m \u001b[38;5;28;01mfor\u001b[39;00m klass \u001b[38;5;129;01min\u001b[39;00m \u001b[38;5;28mreversed\u001b[39m(\u001b[38;5;28mtype\u001b[39m(estimator)\u001b[38;5;241m.\u001b[39mmro()):\n\u001b[0;32m    429\u001b[0m     \u001b[38;5;28;01mif\u001b[39;00m \u001b[38;5;124m\"\u001b[39m\u001b[38;5;124m__sklearn_tags__\u001b[39m\u001b[38;5;124m\"\u001b[39m \u001b[38;5;129;01min\u001b[39;00m \u001b[38;5;28mvars\u001b[39m(klass):\n\u001b[1;32m--> 430\u001b[0m         sklearn_tags_provider[klass] \u001b[38;5;241m=\u001b[39m \u001b[43mklass\u001b[49m\u001b[38;5;241;43m.\u001b[39;49m\u001b[43m__sklearn_tags__\u001b[49m\u001b[43m(\u001b[49m\u001b[43mestimator\u001b[49m\u001b[43m)\u001b[49m  \u001b[38;5;66;03m# type: ignore[attr-defined]\u001b[39;00m\n\u001b[0;32m    431\u001b[0m         class_order\u001b[38;5;241m.\u001b[39mappend(klass)\n\u001b[0;32m    432\u001b[0m     \u001b[38;5;28;01melif\u001b[39;00m \u001b[38;5;124m\"\u001b[39m\u001b[38;5;124m_more_tags\u001b[39m\u001b[38;5;124m\"\u001b[39m \u001b[38;5;129;01min\u001b[39;00m \u001b[38;5;28mvars\u001b[39m(klass):\n",
      "File \u001b[1;32mC:\\Python312\\Lib\\site-packages\\sklearn\\base.py:540\u001b[0m, in \u001b[0;36mClassifierMixin.__sklearn_tags__\u001b[1;34m(self)\u001b[0m\n\u001b[0;32m    539\u001b[0m \u001b[38;5;28;01mdef\u001b[39;00m\u001b[38;5;250m \u001b[39m\u001b[38;5;21m__sklearn_tags__\u001b[39m(\u001b[38;5;28mself\u001b[39m):\n\u001b[1;32m--> 540\u001b[0m     tags \u001b[38;5;241m=\u001b[39m \u001b[38;5;28;43msuper\u001b[39;49m\u001b[43m(\u001b[49m\u001b[43m)\u001b[49m\u001b[38;5;241;43m.\u001b[39;49m\u001b[43m__sklearn_tags__\u001b[49m()\n\u001b[0;32m    541\u001b[0m     tags\u001b[38;5;241m.\u001b[39mestimator_type \u001b[38;5;241m=\u001b[39m \u001b[38;5;124m\"\u001b[39m\u001b[38;5;124mclassifier\u001b[39m\u001b[38;5;124m\"\u001b[39m\n\u001b[0;32m    542\u001b[0m     tags\u001b[38;5;241m.\u001b[39mclassifier_tags \u001b[38;5;241m=\u001b[39m ClassifierTags()\n",
      "\u001b[1;31mAttributeError\u001b[0m: 'super' object has no attribute '__sklearn_tags__'"
     ]
    }
   ],
   "source": [
    "import xgboost as xgb\n",
    "from sklearn.model_selection import GridSearchCV\n",
    "from sklearn.metrics import f1_score\n",
    "\n",
    "# Définition de la grille d'hyperparamètres\n",
    "param_grid = {\n",
    "    'n_estimators': [1000],\n",
    "    'max_depth': [15, 25],\n",
    "    'min_child_weight': [2, 4],\n",
    "    'gamma': [0.2, 0.3],\n",
    "    'colsample_bytree': [0.6, 0.8],\n",
    "    'subsample': [0.4, 0.5],\n",
    "    'reg_alpha': [0.1, 0.2],\n",
    "    'reg_lambda': [0.2, 0.4],\n",
    "    'learning_rate': [0.05, 0.1]\n",
    "}\n",
    "\n",
    "# Configuration de GridSearchCV\n",
    "grid_search = GridSearchCV(\n",
    "    estimator=xgb.XGBClassifier(\n",
    "        objective='binary:logistic',\n",
    "        random_state=0,\n",
    "        eval_metric='logloss'  # Utiliser 'eval_metric' au lieu de l'ancien 'use_label_encoder'\n",
    "    ),\n",
    "    param_grid=param_grid,\n",
    "    scoring='f1',  # Utiliser le score F1 pour l'évaluation\n",
    "    cv=10,\n",
    "    verbose=2,\n",
    "    n_jobs=-1\n",
    ")\n",
    "\n",
    "# Exécution de la recherche en grille\n",
    "grid_search.fit(X_train, y_train)\n",
    "\n",
    "# Affichage des meilleurs paramètres\n",
    "print(\"Meilleurs hyperparamètres trouvés : \", grid_search.best_params_)\n",
    "\n",
    "# Modèle avec les meilleurs hyperparamètres\n",
    "best_model = grid_search.best_estimator_\n"
   ]
  },
  {
   "cell_type": "code",
   "execution_count": null,
   "id": "jp6OHqEqNTK-",
   "metadata": {
    "executionInfo": {
     "elapsed": 43,
     "status": "ok",
     "timestamp": 1736471335895,
     "user": {
      "displayName": "Moustapha Fall",
      "userId": "14093087170737290593"
     },
     "user_tz": 0
    },
    "id": "jp6OHqEqNTK-"
   },
   "outputs": [],
   "source": [
    "# Récupération du meilleur modèle\n",
    "xgb_model = grid_search.best_estimator_"
   ]
  },
  {
   "cell_type": "code",
   "execution_count": null,
   "id": "o15W_mX_NTGw",
   "metadata": {
    "colab": {
     "base_uri": "https://localhost:8080/"
    },
    "executionInfo": {
     "elapsed": 41,
     "status": "ok",
     "timestamp": 1736471335895,
     "user": {
      "displayName": "Moustapha Fall",
      "userId": "14093087170737290593"
     },
     "user_tz": 0
    },
    "id": "o15W_mX_NTGw",
    "outputId": "6cc972d2-0d52-4eb2-9793-7c6a4e07f4b8"
   },
   "outputs": [
    {
     "name": "stdout",
     "output_type": "stream",
     "text": [
      "Modèle enregistré avec succès.\n"
     ]
    }
   ],
   "source": [
    "import joblib\n",
    "joblib.dump(xgb_model, '../../models/xgb_model_v0.pkl')\n",
    "print(\"Modèle enregistré avec succès.\")"
   ]
  },
  {
   "cell_type": "code",
   "execution_count": null,
   "id": "hEHT-bbhNkoX",
   "metadata": {
    "executionInfo": {
     "elapsed": 571,
     "status": "ok",
     "timestamp": 1736471382242,
     "user": {
      "displayName": "Moustapha Fall",
      "userId": "14093087170737290593"
     },
     "user_tz": 0
    },
    "id": "hEHT-bbhNkoX"
   },
   "outputs": [],
   "source": [
    "y_test_proba_xgb = xgb_model.predict_proba(X_test)[:, 1]\n",
    "y_train_proba_xgb = xgb_model.predict_proba(X_train)[:, 1]\n",
    "threshold = 0.5\n",
    "title_xgb  = \"XGBoost\""
   ]
  },
  {
   "cell_type": "code",
   "execution_count": null,
   "id": "M7rJk-y-Nkj6",
   "metadata": {
    "colab": {
     "base_uri": "https://localhost:8080/",
     "height": 564
    },
    "executionInfo": {
     "elapsed": 454,
     "status": "ok",
     "timestamp": 1736471449652,
     "user": {
      "displayName": "Moustapha Fall",
      "userId": "14093087170737290593"
     },
     "user_tz": 0
    },
    "id": "M7rJk-y-Nkj6",
    "outputId": "dbe0665c-dca0-4889-dcb5-943abe0693ab"
   },
   "outputs": [
    {
     "data": {
      "image/png": "[encoded data removed]",
      "text/plain": [
       "<Figure size 800x600 with 1 Axes>"
      ]
     },
     "metadata": {},
     "output_type": "display_data"
    }
   ],
   "source": [
    "plot_roc_curve(y_test, y_test_proba_xgb, model_name=title_xgb)"
   ]
  },
  {
   "cell_type": "code",
   "execution_count": null,
   "id": "93Ihbf1zNpkx",
   "metadata": {
    "colab": {
     "base_uri": "https://localhost:8080/",
     "height": 609
    },
    "executionInfo": {
     "elapsed": 977,
     "status": "ok",
     "timestamp": 1736471463405,
     "user": {
      "displayName": "Moustapha Fall",
      "userId": "14093087170737290593"
     },
     "user_tz": 0
    },
    "id": "93Ihbf1zNpkx",
    "outputId": "d9147ec6-9195-4383-9740-87a9c5d2de98"
   },
   "outputs": [
    {
     "data": {
      "image/png": "[encoded data removed]",
      "text/plain": [
       "<Figure size 1200x500 with 4 Axes>"
      ]
     },
     "metadata": {},
     "output_type": "display_data"
    },
    {
     "name": "stdout",
     "output_type": "stream",
     "text": [
      "              Train      Test\n",
      "Metric                       \n",
      "Recall     1.000000  0.885714\n",
      "AUC        1.000000  0.753905\n",
      "Accuracy   0.996000  0.748000\n",
      "Precision  0.994318  0.782828\n",
      "F1 Score   0.997151  0.831099\n"
     ]
    }
   ],
   "source": [
    "resultat_xgb = evaluate_tree_ensemble_model(xgb_model, X_train, y_train, X_test, y_test, y_train_proba_xgb, y_test_proba_xgb)"
   ]
  },
  {
   "cell_type": "code",
   "execution_count": null,
   "id": "X3x20KrWNpYW",
   "metadata": {
    "colab": {
     "base_uri": "https://localhost:8080/",
     "height": 564
    },
    "executionInfo": {
     "elapsed": 1072,
     "status": "ok",
     "timestamp": 1736471492856,
     "user": {
      "displayName": "Moustapha Fall",
      "userId": "14093087170737290593"
     },
     "user_tz": 0
    },
    "id": "X3x20KrWNpYW",
    "outputId": "57a64dc5-f9b0-4e09-c1b3-3647bf64f960"
   },
   "outputs": [
    {
     "data": {
      "image/png": "[encoded data removed]",
      "text/plain": [
       "<Figure size 1000x600 with 1 Axes>"
      ]
     },
     "metadata": {},
     "output_type": "display_data"
    }
   ],
   "source": [
    "feature_names = X_train.columns.tolist()\n",
    "plot_feature_importances(xgb_model, feature_names,title_xgb,len(feature_names))"
   ]
  },
  {
   "cell_type": "code",
   "execution_count": null,
   "id": "lHX9nG11NpeQ",
   "metadata": {
    "colab": {
     "base_uri": "https://localhost:8080/",
     "height": 545
    },
    "executionInfo": {
     "elapsed": 407,
     "status": "ok",
     "timestamp": 1736471500788,
     "user": {
      "displayName": "Moustapha Fall",
      "userId": "14093087170737290593"
     },
     "user_tz": 0
    },
    "id": "lHX9nG11NpeQ",
    "outputId": "ed5ecfda-7e77-4788-e8e9-4799524da479"
   },
   "outputs": [
    {
     "data": {
      "image/png": "[encoded data removed]",
      "text/plain": [
       "<Figure size 800x600 with 1 Axes>"
      ]
     },
     "metadata": {},
     "output_type": "display_data"
    }
   ],
   "source": [
    "plot_boxplot_of_probabilities(xgb_model, X_test, y_test, y_test_proba_xgb, title_xgb)"
   ]
  },
  {
   "cell_type": "code",
   "execution_count": null,
   "id": "Us4gL1UQNpTK",
   "metadata": {
    "colab": {
     "base_uri": "https://localhost:8080/",
     "height": 719
    },
    "executionInfo": {
     "elapsed": 957,
     "status": "ok",
     "timestamp": 1736471504564,
     "user": {
      "displayName": "Moustapha Fall",
      "userId": "14093087170737290593"
     },
     "user_tz": 0
    },
    "id": "Us4gL1UQNpTK",
    "outputId": "751ffa2d-3cd2-4967-8754-877d542033b1"
   },
   "outputs": [
    {
     "data": {
      "image/png": "[encoded data removed]",
      "text/plain": [
       "<Figure size 1200x800 with 1 Axes>"
      ]
     },
     "metadata": {},
     "output_type": "display_data"
    }
   ],
   "source": [
    "plot_confidence_histogram(xgb_model, X_test, y_test, y_test_proba_xgb, title_xgb)"
   ]
  },
  {
   "cell_type": "markdown",
   "id": "zHPrWtJLxPue",
   "metadata": {
    "id": "zHPrWtJLxPue"
   },
   "source": [
    "### Random Forest"
   ]
  },
  {
   "cell_type": "code",
   "execution_count": 17,
   "id": "aPXsBn-UxSdl",
   "metadata": {
    "executionInfo": {
     "elapsed": 1030,
     "status": "ok",
     "timestamp": 1736501712149,
     "user": {
      "displayName": "Moustapha Fall",
      "userId": "14093087170737290593"
     },
     "user_tz": 0
    },
    "id": "aPXsBn-UxSdl"
   },
   "outputs": [],
   "source": [
    "from sklearn.ensemble import RandomForestClassifier\n",
    "from sklearn.model_selection import GridSearchCV\n",
    "from sklearn.metrics import roc_curve, auc\n",
    "\n",
    "# Définition de la grille d'hyperparamètres\n",
    "param_grid = {\n",
    "    'n_estimators': [200, 300],  # Expanded range of estimators\n",
    "    'max_depth': [10, 15, 25],  # Explore unlimited depth and other values\n",
    "    'min_samples_split': [2, 5, 10],  # Wider range for splitting\n",
    "    'min_samples_leaf': [1, 2, 4],  # Keep as is\n",
    "    'max_features': ['sqrt', 'log2'],  # Include more options for feature subsets\n",
    "    'criterion': ['gini', 'entropy']  # Explore different splitting criteria\n",
    "}"
   ]
  },
  {
   "cell_type": "code",
   "execution_count": 41,
   "id": "RiDlfMVkxSZr",
   "metadata": {
    "colab": {
     "base_uri": "https://localhost:8080/"
    },
    "id": "RiDlfMVkxSZr",
    "outputId": "eb97877c-d239-4726-a1b2-163ae01cf73e"
   },
   "outputs": [
    {
     "name": "stdout",
     "output_type": "stream",
     "text": [
      "Fitting 5 folds for each of 216 candidates, totalling 1080 fits\n"
     ]
    },
    {
     "name": "stderr",
     "output_type": "stream",
     "text": [
      "[Parallel(n_jobs=2)]: Using backend ThreadingBackend with 2 concurrent workers.\n",
      "[Parallel(n_jobs=2)]: Done  46 tasks      | elapsed:    0.1s\n"
     ]
    },
    {
     "name": "stdout",
     "output_type": "stream",
     "text": [
      "Meilleurs hyperparamètres trouvés :  {'criterion': 'gini', 'max_depth': 10, 'max_features': 'sqrt', 'min_samples_leaf': 4, 'min_samples_split': 10, 'n_estimators': 200}\n"
     ]
    },
    {
     "name": "stderr",
     "output_type": "stream",
     "text": [
      "[Parallel(n_jobs=2)]: Done 196 tasks      | elapsed:    0.6s\n",
      "[Parallel(n_jobs=2)]: Done 200 out of 200 | elapsed:    0.6s finished\n"
     ]
    }
   ],
   "source": [
    "# Création de l'objet GridSearchCV\n",
    "grid_search = GridSearchCV(\n",
    "    estimator=RandomForestClassifier(n_jobs=2, verbose=True, random_state=0),\n",
    "    param_grid=param_grid,\n",
    "    scoring='roc_auc',\n",
    "    cv=5,\n",
    "    verbose=2,\n",
    "    n_jobs=4\n",
    ")\n",
    "\n",
    "# Exécution de la recherche en grille sur les données d'entraînement\n",
    "grid_search.fit(X_train, y_train)\n",
    "\n",
    "# Affichage des meilleurs paramètres\n",
    "print(\"Meilleurs hyperparamètres trouvés : \", grid_search.best_params_)\n",
    "# Get the best parameters and the best model\n",
    "best_params = grid_search.best_params_\n",
    "rf_model = grid_search.best_estimator_"
   ]
  },
  {
   "cell_type": "code",
   "execution_count": 42,
   "id": "mUO2gF4uxSVp",
   "metadata": {
    "id": "mUO2gF4uxSVp"
   },
   "outputs": [],
   "source": [
    "threshold = 0.5\n",
    "title = \"Random Forest\""
   ]
  },
  {
   "cell_type": "code",
   "execution_count": 43,
   "id": "hJVA-jBsxSRY",
   "metadata": {
    "id": "hJVA-jBsxSRY"
   },
   "outputs": [
    {
     "name": "stdout",
     "output_type": "stream",
     "text": [
      "Modèle enregistré avec succès.\n"
     ]
    }
   ],
   "source": [
    "import joblib\n",
    "joblib.dump(rf_model, '../../models/rf_model_0_1.pkl')\n",
    "print(\"Modèle enregistré avec succès.\")"
   ]
  },
  {
   "cell_type": "code",
   "execution_count": 44,
   "id": "nuvyUV-XxSMf",
   "metadata": {
    "id": "nuvyUV-XxSMf"
   },
   "outputs": [
    {
     "name": "stderr",
     "output_type": "stream",
     "text": [
      "[Parallel(n_jobs=2)]: Using backend ThreadingBackend with 2 concurrent workers.\n",
      "[Parallel(n_jobs=2)]: Done  46 tasks      | elapsed:    0.0s\n",
      "[Parallel(n_jobs=2)]: Done 196 tasks      | elapsed:    0.1s\n",
      "[Parallel(n_jobs=2)]: Done 200 out of 200 | elapsed:    0.1s finished\n",
      "[Parallel(n_jobs=2)]: Using backend ThreadingBackend with 2 concurrent workers.\n",
      "[Parallel(n_jobs=2)]: Done  46 tasks      | elapsed:    0.0s\n",
      "[Parallel(n_jobs=2)]: Done 196 tasks      | elapsed:    0.0s\n",
      "[Parallel(n_jobs=2)]: Done 200 out of 200 | elapsed:    0.0s finished\n"
     ]
    }
   ],
   "source": [
    "y_test_proba = rf_model.predict_proba(X_test)[:, 1]\n",
    "y_train_proba = rf_model.predict_proba(X_train)[:, 1]"
   ]
  },
  {
   "cell_type": "code",
   "execution_count": 19,
   "id": "7f4d3ca5",
   "metadata": {},
   "outputs": [
    {
     "data": {
      "text/plain": [
       "732    1\n",
       "398    0\n",
       "933    1\n",
       "72     1\n",
       "340    1\n",
       "      ..\n",
       "634    0\n",
       "19     1\n",
       "172    0\n",
       "739    0\n",
       "408    1\n",
       "Name: Risk, Length: 750, dtype: int64"
      ]
     },
     "execution_count": 19,
     "metadata": {},
     "output_type": "execute_result"
    }
   ],
   "source": [
    "y_train"
   ]
  },
  {
   "cell_type": "code",
   "execution_count": 18,
   "id": "234cf14e",
   "metadata": {},
   "outputs": [
    {
     "data": {
      "text/html": [
       "<div>\n",
       "<style scoped>\n",
       "    .dataframe tbody tr th:only-of-type {\n",
       "        vertical-align: middle;\n",
       "    }\n",
       "\n",
       "    .dataframe tbody tr th {\n",
       "        vertical-align: top;\n",
       "    }\n",
       "\n",
       "    .dataframe thead th {\n",
       "        text-align: right;\n",
       "    }\n",
       "</style>\n",
       "<table border=\"1\" class=\"dataframe\">\n",
       "  <thead>\n",
       "    <tr style=\"text-align: right;\">\n",
       "      <th></th>\n",
       "      <th>Age</th>\n",
       "      <th>Sex</th>\n",
       "      <th>Job</th>\n",
       "      <th>Credit amount</th>\n",
       "      <th>Duration</th>\n",
       "      <th>Purpose</th>\n",
       "      <th>Housing_free</th>\n",
       "      <th>Housing_own</th>\n",
       "      <th>Housing_rent</th>\n",
       "      <th>Saving accounts_little</th>\n",
       "      <th>Saving accounts_moderate</th>\n",
       "      <th>Saving accounts_quite rich</th>\n",
       "      <th>Saving accounts_rich</th>\n",
       "      <th>Checking account_little</th>\n",
       "      <th>Checking account_moderate</th>\n",
       "      <th>Checking account_rich</th>\n",
       "    </tr>\n",
       "  </thead>\n",
       "  <tbody>\n",
       "    <tr>\n",
       "      <th>732</th>\n",
       "      <td>44</td>\n",
       "      <td>1</td>\n",
       "      <td>1</td>\n",
       "      <td>760</td>\n",
       "      <td>8</td>\n",
       "      <td>5</td>\n",
       "      <td>0</td>\n",
       "      <td>1</td>\n",
       "      <td>0</td>\n",
       "      <td>1</td>\n",
       "      <td>0</td>\n",
       "      <td>0</td>\n",
       "      <td>0</td>\n",
       "      <td>0</td>\n",
       "      <td>1</td>\n",
       "      <td>0</td>\n",
       "    </tr>\n",
       "    <tr>\n",
       "      <th>398</th>\n",
       "      <td>46</td>\n",
       "      <td>0</td>\n",
       "      <td>2</td>\n",
       "      <td>1223</td>\n",
       "      <td>12</td>\n",
       "      <td>1</td>\n",
       "      <td>0</td>\n",
       "      <td>0</td>\n",
       "      <td>1</td>\n",
       "      <td>1</td>\n",
       "      <td>0</td>\n",
       "      <td>0</td>\n",
       "      <td>0</td>\n",
       "      <td>0</td>\n",
       "      <td>1</td>\n",
       "      <td>0</td>\n",
       "    </tr>\n",
       "    <tr>\n",
       "      <th>933</th>\n",
       "      <td>42</td>\n",
       "      <td>0</td>\n",
       "      <td>2</td>\n",
       "      <td>522</td>\n",
       "      <td>12</td>\n",
       "      <td>5</td>\n",
       "      <td>0</td>\n",
       "      <td>1</td>\n",
       "      <td>0</td>\n",
       "      <td>0</td>\n",
       "      <td>0</td>\n",
       "      <td>1</td>\n",
       "      <td>0</td>\n",
       "      <td>0</td>\n",
       "      <td>0</td>\n",
       "      <td>0</td>\n",
       "    </tr>\n",
       "    <tr>\n",
       "      <th>72</th>\n",
       "      <td>51</td>\n",
       "      <td>0</td>\n",
       "      <td>3</td>\n",
       "      <td>1164</td>\n",
       "      <td>8</td>\n",
       "      <td>7</td>\n",
       "      <td>1</td>\n",
       "      <td>0</td>\n",
       "      <td>0</td>\n",
       "      <td>1</td>\n",
       "      <td>0</td>\n",
       "      <td>0</td>\n",
       "      <td>0</td>\n",
       "      <td>1</td>\n",
       "      <td>0</td>\n",
       "      <td>0</td>\n",
       "    </tr>\n",
       "    <tr>\n",
       "      <th>340</th>\n",
       "      <td>24</td>\n",
       "      <td>1</td>\n",
       "      <td>2</td>\n",
       "      <td>5743</td>\n",
       "      <td>24</td>\n",
       "      <td>3</td>\n",
       "      <td>1</td>\n",
       "      <td>0</td>\n",
       "      <td>0</td>\n",
       "      <td>1</td>\n",
       "      <td>0</td>\n",
       "      <td>0</td>\n",
       "      <td>0</td>\n",
       "      <td>0</td>\n",
       "      <td>1</td>\n",
       "      <td>0</td>\n",
       "    </tr>\n",
       "    <tr>\n",
       "      <th>...</th>\n",
       "      <td>...</td>\n",
       "      <td>...</td>\n",
       "      <td>...</td>\n",
       "      <td>...</td>\n",
       "      <td>...</td>\n",
       "      <td>...</td>\n",
       "      <td>...</td>\n",
       "      <td>...</td>\n",
       "      <td>...</td>\n",
       "      <td>...</td>\n",
       "      <td>...</td>\n",
       "      <td>...</td>\n",
       "      <td>...</td>\n",
       "      <td>...</td>\n",
       "      <td>...</td>\n",
       "      <td>...</td>\n",
       "    </tr>\n",
       "    <tr>\n",
       "      <th>634</th>\n",
       "      <td>25</td>\n",
       "      <td>1</td>\n",
       "      <td>1</td>\n",
       "      <td>1355</td>\n",
       "      <td>24</td>\n",
       "      <td>1</td>\n",
       "      <td>0</td>\n",
       "      <td>1</td>\n",
       "      <td>0</td>\n",
       "      <td>1</td>\n",
       "      <td>0</td>\n",
       "      <td>0</td>\n",
       "      <td>0</td>\n",
       "      <td>0</td>\n",
       "      <td>1</td>\n",
       "      <td>0</td>\n",
       "    </tr>\n",
       "    <tr>\n",
       "      <th>19</th>\n",
       "      <td>31</td>\n",
       "      <td>0</td>\n",
       "      <td>2</td>\n",
       "      <td>3430</td>\n",
       "      <td>24</td>\n",
       "      <td>5</td>\n",
       "      <td>0</td>\n",
       "      <td>1</td>\n",
       "      <td>0</td>\n",
       "      <td>0</td>\n",
       "      <td>0</td>\n",
       "      <td>1</td>\n",
       "      <td>0</td>\n",
       "      <td>0</td>\n",
       "      <td>0</td>\n",
       "      <td>0</td>\n",
       "    </tr>\n",
       "    <tr>\n",
       "      <th>172</th>\n",
       "      <td>34</td>\n",
       "      <td>1</td>\n",
       "      <td>3</td>\n",
       "      <td>2064</td>\n",
       "      <td>24</td>\n",
       "      <td>4</td>\n",
       "      <td>0</td>\n",
       "      <td>1</td>\n",
       "      <td>0</td>\n",
       "      <td>1</td>\n",
       "      <td>0</td>\n",
       "      <td>0</td>\n",
       "      <td>0</td>\n",
       "      <td>0</td>\n",
       "      <td>1</td>\n",
       "      <td>0</td>\n",
       "    </tr>\n",
       "    <tr>\n",
       "      <th>739</th>\n",
       "      <td>26</td>\n",
       "      <td>1</td>\n",
       "      <td>1</td>\n",
       "      <td>4280</td>\n",
       "      <td>30</td>\n",
       "      <td>0</td>\n",
       "      <td>0</td>\n",
       "      <td>0</td>\n",
       "      <td>1</td>\n",
       "      <td>0</td>\n",
       "      <td>1</td>\n",
       "      <td>0</td>\n",
       "      <td>0</td>\n",
       "      <td>0</td>\n",
       "      <td>1</td>\n",
       "      <td>0</td>\n",
       "    </tr>\n",
       "    <tr>\n",
       "      <th>408</th>\n",
       "      <td>26</td>\n",
       "      <td>0</td>\n",
       "      <td>3</td>\n",
       "      <td>3235</td>\n",
       "      <td>24</td>\n",
       "      <td>5</td>\n",
       "      <td>0</td>\n",
       "      <td>1</td>\n",
       "      <td>0</td>\n",
       "      <td>0</td>\n",
       "      <td>0</td>\n",
       "      <td>1</td>\n",
       "      <td>0</td>\n",
       "      <td>0</td>\n",
       "      <td>0</td>\n",
       "      <td>0</td>\n",
       "    </tr>\n",
       "  </tbody>\n",
       "</table>\n",
       "<p>750 rows × 16 columns</p>\n",
       "</div>"
      ],
      "text/plain": [
       "     Age  Sex  Job  Credit amount  Duration  Purpose  Housing_free  \\\n",
       "732   44    1    1            760         8        5             0   \n",
       "398   46    0    2           1223        12        1             0   \n",
       "933   42    0    2            522        12        5             0   \n",
       "72    51    0    3           1164         8        7             1   \n",
       "340   24    1    2           5743        24        3             1   \n",
       "..   ...  ...  ...            ...       ...      ...           ...   \n",
       "634   25    1    1           1355        24        1             0   \n",
       "19    31    0    2           3430        24        5             0   \n",
       "172   34    1    3           2064        24        4             0   \n",
       "739   26    1    1           4280        30        0             0   \n",
       "408   26    0    3           3235        24        5             0   \n",
       "\n",
       "     Housing_own  Housing_rent  Saving accounts_little  \\\n",
       "732            1             0                       1   \n",
       "398            0             1                       1   \n",
       "933            1             0                       0   \n",
       "72             0             0                       1   \n",
       "340            0             0                       1   \n",
       "..           ...           ...                     ...   \n",
       "634            1             0                       1   \n",
       "19             1             0                       0   \n",
       "172            1             0                       1   \n",
       "739            0             1                       0   \n",
       "408            1             0                       0   \n",
       "\n",
       "     Saving accounts_moderate  Saving accounts_quite rich  \\\n",
       "732                         0                           0   \n",
       "398                         0                           0   \n",
       "933                         0                           1   \n",
       "72                          0                           0   \n",
       "340                         0                           0   \n",
       "..                        ...                         ...   \n",
       "634                         0                           0   \n",
       "19                          0                           1   \n",
       "172                         0                           0   \n",
       "739                         1                           0   \n",
       "408                         0                           1   \n",
       "\n",
       "     Saving accounts_rich  Checking account_little  Checking account_moderate  \\\n",
       "732                     0                        0                          1   \n",
       "398                     0                        0                          1   \n",
       "933                     0                        0                          0   \n",
       "72                      0                        1                          0   \n",
       "340                     0                        0                          1   \n",
       "..                    ...                      ...                        ...   \n",
       "634                     0                        0                          1   \n",
       "19                      0                        0                          0   \n",
       "172                     0                        0                          1   \n",
       "739                     0                        0                          1   \n",
       "408                     0                        0                          0   \n",
       "\n",
       "     Checking account_rich  \n",
       "732                      0  \n",
       "398                      0  \n",
       "933                      0  \n",
       "72                       0  \n",
       "340                      0  \n",
       "..                     ...  \n",
       "634                      0  \n",
       "19                       0  \n",
       "172                      0  \n",
       "739                      0  \n",
       "408                      0  \n",
       "\n",
       "[750 rows x 16 columns]"
      ]
     },
     "execution_count": 18,
     "metadata": {},
     "output_type": "execute_result"
    }
   ],
   "source": [
    "X_train"
   ]
  },
  {
   "cell_type": "code",
   "execution_count": 1,
   "id": "JZmU7NYkxSHY",
   "metadata": {
    "id": "JZmU7NYkxSHY"
   },
   "outputs": [
    {
     "ename": "NameError",
     "evalue": "name 'evaluate_tree_ensemble_model' is not defined",
     "output_type": "error",
     "traceback": [
      "\u001b[1;31m---------------------------------------------------------------------------\u001b[0m",
      "\u001b[1;31mNameError\u001b[0m                                 Traceback (most recent call last)",
      "Cell \u001b[1;32mIn[1], line 1\u001b[0m\n\u001b[1;32m----> 1\u001b[0m resultat_xgb \u001b[38;5;241m=\u001b[39m \u001b[43mevaluate_tree_ensemble_model\u001b[49m(rf_model, X_train, y_train, X_test, y_test, y_train_proba, y_test_proba, threshold\u001b[38;5;241m=\u001b[39m\u001b[38;5;241m0.5\u001b[39m)\n",
      "\u001b[1;31mNameError\u001b[0m: name 'evaluate_tree_ensemble_model' is not defined"
     ]
    }
   ],
   "source": [
    "resultat_xgb = evaluate_tree_ensemble_model(rf_model, X_train, y_train, X_test, y_test, y_train_proba, y_test_proba, threshold=0.5)"
   ]
  },
  {
   "cell_type": "code",
   "execution_count": 45,
   "id": "6182df77",
   "metadata": {},
   "outputs": [
    {
     "data": {
      "image/png": "[encoded data removed]",
      "text/plain": [
       "<Figure size 1000x600 with 1 Axes>"
      ]
     },
     "metadata": {},
     "output_type": "display_data"
    }
   ],
   "source": [
    "feature_names = X_train.columns.tolist()\n",
    "plot_feature_importances(rf_model, feature_names,title, len(feature_names))"
   ]
  }
 ],
 "metadata": {
  "colab": {
   "provenance": []
  },
  "kernelspec": {
   "display_name": "credit_risk_env",
   "language": "python",
   "name": "python3"
  },
  "language_info": {
   "codemirror_mode": {
    "name": "ipython",
    "version": 3
   },
   "file_extension": ".py",
   "mimetype": "text/x-python",
   "name": "python",
   "nbconvert_exporter": "python",
   "pygments_lexer": "ipython3",
   "version": "3.12.1"
  }
 },
 "nbformat": 4,
 "nbformat_minor": 5
}
